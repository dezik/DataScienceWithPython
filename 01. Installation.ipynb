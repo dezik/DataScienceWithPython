{
 "nbformat": 4,
 "nbformat_minor": 2,
 "metadata": {
  "language_info": {
   "name": "python",
   "codemirror_mode": {
    "name": "ipython",
    "version": 3
   },
   "version": "3.7.6-final"
  },
  "orig_nbformat": 2,
  "file_extension": ".py",
  "mimetype": "text/x-python",
  "name": "python",
  "npconvert_exporter": "python",
  "pygments_lexer": "ipython3",
  "version": 3,
  "kernelspec": {
   "name": "python37664bitdatasciencecondae8f42ab0efea4f998c891fa6287f9d0d",
   "display_name": "Python 3.7.6 64-bit ('datascience': conda)"
  }
 },
 "cells": [
  {
   "cell_type": "code",
   "execution_count": 10,
   "metadata": {},
   "outputs": [
    {
     "data": {
      "text/markdown": "# Install Anaconda\n\n1. Download installer:\n        \n        `https://repo.anaconda.com/archive/Anaconda3-2019.10-MacOSX-x86_64.pkg`\n2. Install Anaconda\n3. Create and activate environment:\n\n      `conda create -n datascience python=3.7`\n      \n      `conda activate datascience`\n4. Install conda packages:\n\n    `conda install pydotplus`\n\n    `conda install tensorflow`\n\n    `conda install jupyter`\n",
      "text/plain": "<IPython.core.display.Markdown object>"
     },
     "metadata": {},
     "output_type": "display_data"
    }
   ],
   "source": [
    "%%markdown\n",
    "# Install Anaconda\n",
    "\n",
    "1. Download installer:\n",
    "        \n",
    "        `https://repo.anaconda.com/archive/Anaconda3-2019.10-MacOSX-x86_64.pkg`\n",
    "2. Install Anaconda\n",
    "3. Create and activate environment:\n",
    "\n",
    "      `conda create -n datascience python=3.7`\n",
    "      \n",
    "      `conda activate datascience`\n",
    "4. Install conda packages:\n",
    "\n",
    "    `conda install pydotplus`\n",
    "\n",
    "    `conda install tensorflow`\n",
    "\n",
    "    `conda install jupyter`"
   ]
  },
  {
   "cell_type": "code",
   "execution_count": null,
   "metadata": {},
   "outputs": [],
   "source": []
  }
 ]
}