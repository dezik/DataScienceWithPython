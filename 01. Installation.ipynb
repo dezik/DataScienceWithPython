{
 "nbformat": 4,
 "nbformat_minor": 2,
 "metadata": {
  "language_info": {
   "name": "python",
   "codemirror_mode": {
    "name": "ipython",
    "version": 3
   },
   "version": "3.7.6-final"
  },
  "orig_nbformat": 2,
  "file_extension": ".py",
  "mimetype": "text/x-python",
  "name": "python",
  "npconvert_exporter": "python",
  "pygments_lexer": "ipython3",
  "version": 3,
  "kernelspec": {
   "name": "python37664bitdatasciencecondae8f42ab0efea4f998c891fa6287f9d0d",
   "display_name": "Python 3.7.6 64-bit ('datascience': conda)"
  },
  "pycharm": {
   "stem_cell": {
    "cell_type": "raw",
    "source": [],
    "metadata": {
     "collapsed": false
    }
   }
  }
 },
 "cells": [
  {
   "cell_type": "markdown",
   "metadata": {
    "pycharm": {
     "name": "#%% md\n"
    }
   },
   "source": [
    "# Install Anaconda\n",
    "\n",
    "1. Download installer: \n",
    "        `https://repo.anaconda.com/archive/Anaconda3-2019.10-MacOSX-x86_64.pkg`\n",
    "2. Install Anaconda\n",
    "3. Create and activate environment:\n",
    "\n",
    "      `conda create -n datascience python=3.7`\n",
    "      \n",
    "      `conda activate datascience`\n",
    "4. Install packages:\n",
    "\n",
    "    `conda install pandas scipy pydotplus tensorflow jupyter matplotlib seaborn xlrd statsmodels graphviz python-graphviz`\n",
    "    \n",
    "    `pip install sklearn xgboost gym`\n",
    "    \n",
    "    `brew install graphviz`"
   ]
  }
 ]
}