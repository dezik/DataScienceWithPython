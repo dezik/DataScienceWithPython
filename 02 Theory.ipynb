{
 "cells": [
  {
   "cell_type": "markdown",
   "source": [
    "## Types of data\n",
    "1. Numerical (weight, stock price)\n",
    "2. Categorical (race, yes/no, gender)\n",
    "3. Ordinal (movie rating)\n",
    "\n",
    "\n",
    "## Mean, Median, Mode\n",
    "1. Mean - synonym to `average`\n",
    "    `(1+2+3+4+5)/5` -> **3**\n",
    "2. Median - sort the values and get midpoint:\n",
    "    `0,2,3,2,1,0,0,2,0` -> `0,0,0,0,1,2,2,2,3` -> **1**\n",
    "3. Mode - most common value in dataset\n",
    "    `0,2,3,2,1,0,0,2,0` -> `0:4, 1:1, 2:3, 3:1` -> **0**\n",
    "    \n",
    "\n",
    "## Variance and Standard Deviation\n",
    "**Variance** - average of the squared differences from the mean. Variance show how spared is your dataset, what is the shape of histogram.\n",
    "1. Find the mean:\n",
    "    `(1,4,5,4,8)` -> `(1+4+5+4+8)/5` -> **4.4**\n",
    "2. Find differences from the mean:\n",
    "    `(-3.4, -0.4, 0.6, -0.4, 3.6)`\n",
    "3. Find squared differences:\n",
    "    `(11.56, 0.16, 0.36, 0.16, 12.96)`\n",
    "4. Find average:\n",
    "    `(11.56 + 0.16 + 0.36 + 0.16 + 12.96)/5` -> **5.04**\n",
    "    \n",
    "There are 2 types of variances:\n",
    "- *Population variance* - `(11.56 + 0.16 + 0.36 + 0.16 + 12.96)/5` -> **5.04**\n",
    "- *Sample variance* - squared variances divided by N-1 `(11.56 + 0.16 + 0.36 + 0.16 + 12.96)/4` -> **6.3**\n",
    "        \n",
    "**Standard Deviation** is a square root from variance:\n",
    "    `sqrt(5.04)` -> **2.24**\n",
    "    \n",
    "\n",
    "## Probability Density function, Probability Mass function\n",
    "**Probability Density function** - Gives you the probability of a data point falling within some given range of a given value. Example is normal distribution.\n",
    "\n",
    "**Probability Mass function** - the same but works with discrete data.\n",
    "\n",
    "\n",
    "## Percentiles and moments\n",
    "\n",
    "**Percentiles** - shows the point in a sorted dataset at which X% of values are less than given value. Median is equal to 50% percentile.\n",
    "\n",
    "**Moments** : \n",
    "1. The first moment is the *mean*. \n",
    "2. Second is *variance*. \n",
    "3. The third is *skew*.\n",
    "Distribution with a longer left tail has negative skew, with longer right tail - positive skew.\n",
    "4. The fourth moment is *kurtosis*. Shows how thick it the tail and how sharp is the peak, compared to normal distribution. High peaks have higher kurtosis.\n",
    "\n",
    "\n",
    "## Covariance and Correlation\n",
    "\n",
    "**Covariance** - Covariance measures how two variables vary in tandem from their means.\n",
    "\n",
    "**Correlation** normalizes everything by their standard deviations, giving you an easier to understand value that ranges from -1 (for a perfect inverse correlation) to 1 (for a perfect positive correlation)\n",
    "\n",
    "## Predictive Models"
   ],
   "metadata": {
    "collapsed": false,
    "pycharm": {
     "name": "#%% md\n"
    }
   }
  },
  {
   "cell_type": "markdown",
   "source": [
    "**Linear Regression** - is fitting a straight line to a set of observations (points on the graph)\n",
    "        `y = mx + b`\n",
    "\n",
    "**Coefficient of determination** - shows how well your line fits your data. O means bad fit, 1 means perfect fit.\n",
    "\n",
    "\n",
    "**Polynomial regression** - fitting curve line to a set of points.\n",
    "        `y = ax2 + bx + c` or `y = ax3 + bx2 + cx + d`\n",
    "        \n",
    "**Multiple regression** - regression when you have many influence variables"
   ],
   "metadata": {
    "collapsed": false
   }
  }
 ],
 "metadata": {
  "kernelspec": {
   "display_name": "${KERNEL_SPEC_DISPLAY_NAME}",
   "language": "${KERNEL_SPEC_LANGUAGE}",
   "name": "${KERNEL_SPEC_NAME}"
  },
  "language_info": {
   "codemirror_mode": {
    "name": "ipython",
    "version": 2
   },
   "file_extension": ".py",
   "mimetype": "text/x-python",
   "name": "python",
   "nbconvert_exporter": "python",
   "pygments_lexer": "ipython2",
   "version": "2.7.6"
  },
  "pycharm": {
   "stem_cell": {
    "cell_type": "raw",
    "source": [],
    "metadata": {
     "collapsed": false
    }
   }
  }
 },
 "nbformat": 4,
 "nbformat_minor": 0
}