{
 "cells": [
  {
   "cell_type": "markdown",
   "source": [
    "## Machine Learning\n",
    "\n",
    "**Machine Learning** - algorithms that can learn from data and make predictions based on it.\n",
    "\n",
    "**Unsupervised learning** - no any answers given to model, it must make sens of data itself.\n",
    "\n",
    "**Supervised learning** - algorithms learns from data comes with correct answers. Used to predict answer for new unknown value.\n",
    "To **evaluate prediction results** usually train model on 80% of dataset (*training set*) and then measure model accuracy against the rest 20% of dataset (*test set*).\n",
    "\n",
    "**K-fold cross validation** - training approach when divide dataset to e.g. 10 parts and then train model against some combination of 8 parts \n",
    "and test against another 2 parts. Then train model against other set of parts and take average r-squared score.\n",
    " "
   ],
   "metadata": {
    "collapsed": false,
    "pycharm": {
     "name": "#%% md\n"
    }
   }
  }
 ],
 "metadata": {
  "kernelspec": {
   "display_name": "${KERNEL_SPEC_DISPLAY_NAME}",
   "language": "${KERNEL_SPEC_LANGUAGE}",
   "name": "${KERNEL_SPEC_NAME}"
  },
  "language_info": {
   "codemirror_mode": {
    "name": "ipython",
    "version": 2
   },
   "file_extension": ".py",
   "mimetype": "text/x-python",
   "name": "python",
   "nbconvert_exporter": "python",
   "pygments_lexer": "ipython2",
   "version": "2.7.6"
  },
  "pycharm": {
   "stem_cell": {
    "cell_type": "raw",
    "source": [],
    "metadata": {
     "collapsed": false
    }
   }
  }
 },
 "nbformat": 4,
 "nbformat_minor": 0
}