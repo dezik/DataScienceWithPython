{
 "cells": [
  {
   "cell_type": "markdown",
   "metadata": {},
   "source": [
    "# Mean, Median, Mode, and introducing NumPy"
   ]
  },
  {
   "cell_type": "markdown",
   "metadata": {},
   "source": [
    "## Mean vs. Median"
   ]
  },
  {
   "cell_type": "markdown",
   "metadata": {},
   "source": [
    "Let's create some fake income data, centered around 27,000 with a normal distribution and standard deviation of 15,000, with 10,000 data points. (We'll discuss those terms more later, if you're not familiar with them.)\n",
    "\n",
    "Then, compute the mean (average) - it should be close to 27,000:"
   ]
  },
  {
   "cell_type": "code",
   "execution_count": 7,
   "metadata": {
    "pycharm": {
     "is_executing": false
    }
   },
   "outputs": [
    {
     "data": {
      "text/plain": "27253.86518444414"
     },
     "metadata": {},
     "output_type": "execute_result",
     "execution_count": 7
    }
   ],
   "source": [
    "import numpy as np\n",
    "\n",
    "incomes = np.random.normal(27000, 15000, 10000)\n",
    "np.mean(incomes)"
   ]
  },
  {
   "cell_type": "markdown",
   "metadata": {},
   "source": [
    "We can segment the income data into 50 buckets, and plot it as a histogram:"
   ]
  },
  {
   "cell_type": "code",
   "execution_count": 12,
   "metadata": {
    "pycharm": {
     "is_executing": false
    }
   },
   "outputs": [
    {
     "data": {
      "text/plain": "<Figure size 432x288 with 1 Axes>",
      "image/png": "[encoded data removed]"
     },
     "metadata": {
      "needs_background": "light"
     },
     "output_type": "display_data"
    }
   ],
   "source": [
    "%matplotlib inline\n",
    "import matplotlib.pyplot as plt\n",
    "plt.hist(incomes, 100)\n",
    "plt.show()"
   ]
  },
  {
   "cell_type": "markdown",
   "metadata": {},
   "source": [
    "Now compute the median - since we have a nice, even distribution it too should be close to 27,000:"
   ]
  },
  {
   "cell_type": "code",
   "execution_count": 13,
   "metadata": {
    "pycharm": {
     "is_executing": false
    }
   },
   "outputs": [
    {
     "data": {
      "text/plain": "27260.13535561041"
     },
     "metadata": {},
     "output_type": "execute_result",
     "execution_count": 13
    }
   ],
   "source": [
    "np.median(incomes)"
   ]
  },
  {
   "cell_type": "markdown",
   "metadata": {},
   "source": [
    "Now we'll add Jeff Bezos into the mix. Darn income inequality!"
   ]
  },
  {
   "cell_type": "code",
   "execution_count": 14,
   "metadata": {
    "pycharm": {
     "is_executing": false
    }
   },
   "outputs": [],
   "source": [
    "incomes = np.append(incomes, [1000000000])"
   ]
  },
  {
   "cell_type": "markdown",
   "metadata": {},
   "source": [
    "The median won't change much, but the mean does:"
   ]
  },
  {
   "cell_type": "code",
   "execution_count": 16,
   "metadata": {
    "pycharm": {
     "is_executing": false
    }
   },
   "outputs": [
    {
     "data": {
      "text/plain": "27260.331968214607"
     },
     "metadata": {},
     "output_type": "execute_result",
     "execution_count": 16
    }
   ],
   "source": [
    "np.median(incomes)"
   ]
  },
  {
   "cell_type": "code",
   "execution_count": 17,
   "metadata": {
    "pycharm": {
     "is_executing": false
    }
   },
   "outputs": [
    {
     "data": {
      "text/plain": "127241.14107033711"
     },
     "metadata": {},
     "output_type": "execute_result",
     "execution_count": 17
    }
   ],
   "source": [
    "np.mean(incomes)"
   ]
  },
  {
   "cell_type": "markdown",
   "metadata": {},
   "source": [
    "## Mode"
   ]
  },
  {
   "cell_type": "markdown",
   "metadata": {},
   "source": [
    "Next, let's generate some fake age data for 500 people:"
   ]
  },
  {
   "cell_type": "code",
   "execution_count": 19,
   "metadata": {
    "pycharm": {
     "is_executing": false
    }
   },
   "outputs": [
    {
     "data": {
      "text/plain": "array([34, 25, 47, 58, 69, 22, 75, 35, 76, 68, 20, 80, 29, 84, 28, 84, 42,\n       67, 65, 21, 27, 23, 60, 28, 56, 21, 21, 34, 54, 42, 37, 84, 52, 82,\n       66, 40, 50, 39, 18, 56, 81, 41, 49, 32, 53, 59, 75, 42, 56, 48, 65,\n       18, 30, 46, 82, 35, 83, 35, 78, 53, 43, 59, 75, 87, 23, 88, 87, 43,\n       75, 62, 52, 79, 37, 81, 68, 73, 39, 75, 36, 71, 69, 66, 34, 82, 67,\n       79, 63, 48, 56, 36, 50, 75, 49, 89, 82, 37, 56, 51, 82, 40, 50, 63,\n       33, 48, 80, 75, 18, 69, 23, 86, 53, 33, 82, 28, 18, 40, 40, 25, 23,\n       89, 63, 68, 76, 23, 36, 83, 31, 24, 89, 46, 41, 57, 24, 54, 58, 83,\n       55, 45, 75, 76, 81, 53, 89, 18, 67, 27, 79, 58, 81, 48, 29, 39, 58,\n       79, 62, 50, 34, 23, 19, 49, 56, 46, 41, 50, 37, 77, 52, 80, 20, 39,\n       27, 23, 66, 77, 30, 40, 51, 21, 53, 54, 84, 42, 22, 84, 62, 62, 81,\n       22, 41, 67, 20, 62, 79, 27, 38, 66, 51, 42, 44, 41, 53, 78, 47, 69,\n       82, 48, 51, 29, 50, 74, 60, 23, 47, 29, 67, 47, 53, 52, 55, 68, 88,\n       81, 41, 78, 37, 82, 23, 32, 62, 78, 53, 27, 48, 66, 30, 33, 68, 48,\n       26, 19, 60, 62, 85, 83, 67, 85, 51, 55, 52, 51, 56, 77, 23, 46, 68,\n       47, 18, 21, 60, 84, 81, 44, 45, 74, 70, 85, 74, 34, 73, 50, 85, 51,\n       37, 57, 48, 45, 27, 35, 39, 36, 88, 37, 73, 73, 36, 44, 53, 80, 31,\n       30, 27, 77, 59, 48, 23, 56, 78, 64, 33, 30, 25, 25, 42, 71, 53, 24,\n       40, 61, 44, 53, 47, 26, 47, 26, 48, 52, 21, 29, 81, 73, 39, 35, 84,\n       43, 38, 58, 59, 51, 20, 65, 39, 56, 18, 33, 42, 87, 64, 27, 40, 20,\n       43, 49, 40, 35, 44, 69, 48, 22, 75, 27, 30, 29, 65, 53, 57, 62, 58,\n       26, 31, 21, 21, 51, 87, 42, 26, 30, 29, 70, 61, 68, 32, 83, 83, 78,\n       33, 43, 49, 88, 34, 86, 47, 46, 75, 80, 80, 36, 32, 75, 19, 70, 84,\n       27, 37, 51, 44, 85, 25, 27, 30, 60, 25, 46, 50, 65, 26, 63, 76, 85,\n       80, 75, 28, 86, 69, 40, 79, 19, 45, 33, 19, 47, 34, 81, 31, 84, 47,\n       56, 18, 18, 22, 50, 87, 38, 41, 27, 29, 35, 53, 70, 61, 60, 88, 75,\n       73, 89, 72, 75, 53, 57, 66, 82, 47, 87, 41, 60, 67, 20, 50, 46, 74,\n       25, 63, 32, 46, 19, 72, 49, 78, 86, 42, 55, 45, 60, 45, 45, 33, 40,\n       33, 64, 63, 52, 52, 33, 83, 32, 74, 33, 78, 26, 87, 47, 59, 61, 27,\n       80, 63, 79, 60, 59, 25, 45])"
     },
     "metadata": {},
     "output_type": "execute_result",
     "execution_count": 19
    }
   ],
   "source": [
    "ages = np.random.randint(18, high=90, size=500)\n",
    "ages"
   ]
  },
  {
   "cell_type": "code",
   "execution_count": 20,
   "metadata": {
    "pycharm": {
     "is_executing": false
    }
   },
   "outputs": [
    {
     "data": {
      "text/plain": "ModeResult(mode=array([53]), count=array([14]))"
     },
     "metadata": {},
     "output_type": "execute_result",
     "execution_count": 20
    }
   ],
   "source": [
    "from scipy import stats\n",
    "stats.mode(ages)"
   ]
  },
  {
   "cell_type": "code",
   "execution_count": null,
   "metadata": {},
   "outputs": [],
   "source": []
  }
 ],
 "metadata": {
  "kernelspec": {
   "display_name": "Python 3",
   "language": "python",
   "name": "python3"
  },
  "language_info": {
   "codemirror_mode": {
    "name": "ipython",
    "version": 3
   },
   "file_extension": ".py",
   "mimetype": "text/x-python",
   "name": "python",
   "nbconvert_exporter": "python",
   "pygments_lexer": "ipython3",
   "version": "3.7.3"
  },
  "pycharm": {
   "stem_cell": {
    "cell_type": "raw",
    "source": [],
    "metadata": {
     "collapsed": false
    }
   }
  }
 },
 "nbformat": 4,
 "nbformat_minor": 1
}