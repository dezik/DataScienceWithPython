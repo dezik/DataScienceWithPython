{
 "cells": [
  {
   "cell_type": "markdown",
   "metadata": {},
   "source": [
    "# Multiple Regression"
   ]
  },
  {
   "cell_type": "markdown",
   "metadata": {},
   "source": [
    "Let's grab a small little data set of Blue Book car values:"
   ]
  },
  {
   "cell_type": "code",
   "execution_count": 48,
   "metadata": {
    "pycharm": {
     "is_executing": false
    }
   },
   "outputs": [],
   "source": [
    "import pandas as pd\n",
    "\n",
    "df = pd.read_excel('http://cdn.sundog-soft.com/Udemy/DataScience/cars.xls')"
   ]
  },
  {
   "cell_type": "code",
   "execution_count": 49,
   "metadata": {
    "pycharm": {
     "is_executing": false
    }
   },
   "outputs": [
    {
     "name": "stdout",
     "text": [
      "                     Mileage         Price\n",
      "Mileage                                   \n",
      "(0, 10000]       5588.629630  24096.714451\n",
      "(10000, 20000]  15898.496183  21955.979607\n",
      "(20000, 30000]  24114.407104  20278.606252\n",
      "(30000, 40000]  33610.338710  19463.670267\n"
     ],
     "output_type": "stream"
    },
    {
     "data": {
      "text/plain": "<matplotlib.axes._subplots.AxesSubplot at 0x13591a48>"
     },
     "metadata": {},
     "output_type": "execute_result",
     "execution_count": 49
    },
    {
     "data": {
      "text/plain": "<Figure size 432x288 with 1 Axes>",
      "image/png": "[encoded data removed]"
     },
     "metadata": {
      "needs_background": "light"
     },
     "output_type": "display_data"
    }
   ],
   "source": [
    "%matplotlib inline\n",
    "import numpy as np\n",
    "df1=df[['Mileage','Price']]\n",
    "bins =  np.arange(0,50000,10000)\n",
    "groups = df1.groupby(pd.cut(df1['Mileage'],bins)).mean()\n",
    "print(groups.head())\n",
    "groups['Price'].plot.line()"
   ]
  },
  {
   "cell_type": "markdown",
   "metadata": {},
   "source": [
    "We can use pandas to split up this matrix into the feature vectors we're interested in, and the value we're trying to predict.\n",
    "\n",
    "Note how we are avoiding the make and model; regressions don't work well with ordinal values, unless you can convert them into some numerical order that makes sense somehow.\n",
    "\n",
    "Let's scale our feature data into the same range so we can easily compare the coefficients we end up with."
   ]
  },
  {
   "cell_type": "code",
   "execution_count": 50,
   "metadata": {
    "pycharm": {
     "is_executing": false
    }
   },
   "outputs": [
    {
     "name": "stdout",
     "text": [
      "      Mileage  Cylinder     Doors\n",
      "0   -1.417485   0.52741  0.556279\n",
      "1   -1.305902   0.52741  0.556279\n",
      "2   -0.810128   0.52741  0.556279\n",
      "3   -0.426058   0.52741  0.556279\n",
      "4    0.000008   0.52741  0.556279\n",
      "..        ...       ...       ...\n",
      "799 -0.439853   0.52741  0.556279\n",
      "800 -0.089966   0.52741  0.556279\n",
      "801  0.079605   0.52741  0.556279\n",
      "802  0.750446   0.52741  0.556279\n",
      "803  1.932565   0.52741  0.556279\n",
      "\n",
      "[804 rows x 3 columns]\n"
     ],
     "output_type": "stream"
    },
    {
     "name": "stderr",
     "text": [
      "C:\\MyPrograms\\miniconda3\\envs\\datascience\\lib\\site-packages\\ipykernel_launcher.py:8: SettingWithCopyWarning: \n",
      "A value is trying to be set on a copy of a slice from a DataFrame.\n",
      "Try using .loc[row_indexer,col_indexer] = value instead\n",
      "\n",
      "See the caveats in the documentation: https://pandas.pydata.org/pandas-docs/stable/user_guide/indexing.html#returning-a-view-versus-a-copy\n",
      "  \n",
      "C:\\MyPrograms\\miniconda3\\envs\\datascience\\lib\\site-packages\\pandas\\core\\indexing.py:965: SettingWithCopyWarning: \n",
      "A value is trying to be set on a copy of a slice from a DataFrame.\n",
      "Try using .loc[row_indexer,col_indexer] = value instead\n",
      "\n",
      "See the caveats in the documentation: https://pandas.pydata.org/pandas-docs/stable/user_guide/indexing.html#returning-a-view-versus-a-copy\n",
      "  self.obj[item] = s\n"
     ],
     "output_type": "stream"
    },
    {
     "data": {
      "text/plain": "<class 'statsmodels.iolib.summary.Summary'>\n\"\"\"\n                                 OLS Regression Results                                \n=======================================================================================\nDep. Variable:                  Price   R-squared (uncentered):                   0.064\nModel:                            OLS   Adj. R-squared (uncentered):              0.060\nMethod:                 Least Squares   F-statistic:                              18.11\nDate:                Thu, 20 Feb 2020   Prob (F-statistic):                    2.23e-11\nTime:                        14:10:23   Log-Likelihood:                         -9207.1\nNo. Observations:                 804   AIC:                                  1.842e+04\nDf Residuals:                     801   BIC:                                  1.843e+04\nDf Model:                           3                                                  \nCovariance Type:            nonrobust                                                  \n==============================================================================\n                 coef    std err          t      P>|t|      [0.025      0.975]\n------------------------------------------------------------------------------\nMileage    -1272.3412    804.623     -1.581      0.114   -2851.759     307.077\nCylinder    5587.4472    804.509      6.945      0.000    4008.252    7166.642\nDoors      -1404.5513    804.275     -1.746      0.081   -2983.288     174.185\n==============================================================================\nOmnibus:                      157.913   Durbin-Watson:                   0.008\nProb(Omnibus):                  0.000   Jarque-Bera (JB):              257.529\nSkew:                           1.278   Prob(JB):                     1.20e-56\nKurtosis:                       4.074   Cond. No.                         1.03\n==============================================================================\n\nWarnings:\n[1] Standard Errors assume that the covariance matrix of the errors is correctly specified.\n\"\"\"",
      "text/html": "<table class=\"simpletable\">\n<caption>OLS Regression Results</caption>\n<tr>\n  <th>Dep. Variable:</th>          <td>Price</td>      <th>  R-squared (uncentered):</th>      <td>   0.064</td> \n</tr>\n<tr>\n  <th>Model:</th>                   <td>OLS</td>       <th>  Adj. R-squared (uncentered):</th> <td>   0.060</td> \n</tr>\n<tr>\n  <th>Method:</th>             <td>Least Squares</td>  <th>  F-statistic:       </th>          <td>   18.11</td> \n</tr>\n<tr>\n  <th>Date:</th>             <td>Thu, 20 Feb 2020</td> <th>  Prob (F-statistic):</th>          <td>2.23e-11</td> \n</tr>\n<tr>\n  <th>Time:</th>                 <td>14:10:23</td>     <th>  Log-Likelihood:    </th>          <td> -9207.1</td> \n</tr>\n<tr>\n  <th>No. Observations:</th>      <td>   804</td>      <th>  AIC:               </th>          <td>1.842e+04</td>\n</tr>\n<tr>\n  <th>Df Residuals:</th>          <td>   801</td>      <th>  BIC:               </th>          <td>1.843e+04</td>\n</tr>\n<tr>\n  <th>Df Model:</th>              <td>     3</td>      <th>                     </th>              <td> </td>    \n</tr>\n<tr>\n  <th>Covariance Type:</th>      <td>nonrobust</td>    <th>                     </th>              <td> </td>    \n</tr>\n</table>\n<table class=\"simpletable\">\n<tr>\n      <td></td>        <th>coef</th>     <th>std err</th>      <th>t</th>      <th>P>|t|</th>  <th>[0.025</th>    <th>0.975]</th>  \n</tr>\n<tr>\n  <th>Mileage</th>  <td>-1272.3412</td> <td>  804.623</td> <td>   -1.581</td> <td> 0.114</td> <td>-2851.759</td> <td>  307.077</td>\n</tr>\n<tr>\n  <th>Cylinder</th> <td> 5587.4472</td> <td>  804.509</td> <td>    6.945</td> <td> 0.000</td> <td> 4008.252</td> <td> 7166.642</td>\n</tr>\n<tr>\n  <th>Doors</th>    <td>-1404.5513</td> <td>  804.275</td> <td>   -1.746</td> <td> 0.081</td> <td>-2983.288</td> <td>  174.185</td>\n</tr>\n</table>\n<table class=\"simpletable\">\n<tr>\n  <th>Omnibus:</th>       <td>157.913</td> <th>  Durbin-Watson:     </th> <td>   0.008</td>\n</tr>\n<tr>\n  <th>Prob(Omnibus):</th> <td> 0.000</td>  <th>  Jarque-Bera (JB):  </th> <td> 257.529</td>\n</tr>\n<tr>\n  <th>Skew:</th>          <td> 1.278</td>  <th>  Prob(JB):          </th> <td>1.20e-56</td>\n</tr>\n<tr>\n  <th>Kurtosis:</th>      <td> 4.074</td>  <th>  Cond. No.          </th> <td>    1.03</td>\n</tr>\n</table><br/><br/>Warnings:<br/>[1] Standard Errors assume that the covariance matrix of the errors is correctly specified."
     },
     "metadata": {},
     "output_type": "execute_result",
     "execution_count": 50
    }
   ],
   "source": [
    "import statsmodels.api as sm\n",
    "from sklearn.preprocessing import StandardScaler\n",
    "scale = StandardScaler()\n",
    "\n",
    "X = df[['Mileage', 'Cylinder', 'Doors']]\n",
    "y = df['Price']\n",
    "\n",
    "X[['Mileage', 'Cylinder', 'Doors']] = scale.fit_transform(X[['Mileage', 'Cylinder', 'Doors']].to_numpy())\n",
    "\n",
    "print (X)\n",
    "\n",
    "est = sm.OLS(y, X).fit()\n",
    "\n",
    "est.summary()"
   ]
  },
  {
   "cell_type": "markdown",
   "metadata": {},
   "source": [
    "The table of coefficients above gives us the values to plug into an equation of form:\n",
    "    B0 + B1 * Mileage + B2 * cylinders + B3 * doors\n",
    "    \n",
    "In this example, it's pretty clear that the number of cylinders is more important than anything based on the coefficients.\n",
    "\n",
    "Could we have figured that out earlier?"
   ]
  },
  {
   "cell_type": "code",
   "execution_count": 51,
   "metadata": {
    "pycharm": {
     "is_executing": false
    }
   },
   "outputs": [
    {
     "data": {
      "text/plain": "Doors\n2    23807.135520\n4    20580.670749\nName: Price, dtype: float64"
     },
     "metadata": {},
     "output_type": "execute_result",
     "execution_count": 51
    }
   ],
   "source": [
    "y.groupby(df.Doors).mean()"
   ]
  },
  {
   "cell_type": "markdown",
   "metadata": {},
   "source": [
    "Surprisingly, more doors does not mean a higher price! (Maybe it implies a sport car in some cases?) So it's not surprising that it's pretty useless as a predictor here. This is a very small data set however, so we can't really read much meaning into it.\n",
    "\n",
    "How would you use this to make an actual prediction? Start by scaling your multiple feature variables into the same scale used to train the model, then just call est.predict() on the scaled features:"
   ]
  },
  {
   "cell_type": "code",
   "execution_count": 52,
   "metadata": {
    "pycharm": {
     "is_executing": false
    }
   },
   "outputs": [
    {
     "name": "stdout",
     "text": [
      "[[3.07256589 1.96971667 0.55627894]]\n",
      "[6315.01330583]\n"
     ],
     "output_type": "stream"
    }
   ],
   "source": [
    "scaled = scale.transform([[45000, 8, 4]])\n",
    "print(scaled)\n",
    "predicted = est.predict(scaled[0])\n",
    "print(predicted)"
   ]
  },
  {
   "cell_type": "markdown",
   "metadata": {},
   "source": [
    "## Activity"
   ]
  },
  {
   "cell_type": "markdown",
   "metadata": {},
   "source": [
    "Mess around with the fake input data, and see if you can create a measurable influence of number of doors on price. Have some fun with it - why stop at 4 doors?"
   ]
  },
  {
   "cell_type": "code",
   "execution_count": 62,
   "metadata": {
    "pycharm": {
     "is_executing": false
    }
   },
   "outputs": [
    {
     "data": {
      "text/plain": "          Price  Mileage   Make    Model      Trim   Type  Cylinder  Liter  \\\n0  17314.103129     8221  Buick  Century  Sedan 4D  Sedan         6    3.1   \n1  17542.036083     9135  Buick  Century  Sedan 4D  Sedan         6    3.1   \n2  16218.847862    13196  Buick  Century  Sedan 4D  Sedan         6    3.1   \n3  16336.913140    16342  Buick  Century  Sedan 4D  Sedan         6    3.1   \n4  16339.170324    19832  Buick  Century  Sedan 4D  Sedan         6    3.1   \n5  15709.052821    22236  Buick  Century  Sedan 4D  Sedan         6    3.1   \n6  15230.003390    22576  Buick  Century  Sedan 4D  Sedan         6    3.1   \n7  15048.042184    22964  Buick  Century  Sedan 4D  Sedan         6    3.1   \n8  14862.093870    24021  Buick  Century  Sedan 4D  Sedan         6    3.1   \n9  15295.018267    27325  Buick  Century  Sedan 4D  Sedan         6    3.1   \n\n   Doors  Cruise  Sound  Leather  \n0      4       1      1        1  \n1      4       1      1        0  \n2      4       1      1        0  \n3      4       1      0        0  \n4      4       1      0        1  \n5      4       1      1        0  \n6      4       1      1        0  \n7      4       1      1        0  \n8      4       1      0        1  \n9      4       1      1        1  ",
      "text/html": "<div>\n<style scoped>\n    .dataframe tbody tr th:only-of-type {\n        vertical-align: middle;\n    }\n\n    .dataframe tbody tr th {\n        vertical-align: top;\n    }\n\n    .dataframe thead th {\n        text-align: right;\n    }\n</style>\n<table border=\"1\" class=\"dataframe\">\n  <thead>\n    <tr style=\"text-align: right;\">\n      <th></th>\n      <th>Price</th>\n      <th>Mileage</th>\n      <th>Make</th>\n      <th>Model</th>\n      <th>Trim</th>\n      <th>Type</th>\n      <th>Cylinder</th>\n      <th>Liter</th>\n      <th>Doors</th>\n      <th>Cruise</th>\n      <th>Sound</th>\n      <th>Leather</th>\n    </tr>\n  </thead>\n  <tbody>\n    <tr>\n      <th>0</th>\n      <td>17314.103129</td>\n      <td>8221</td>\n      <td>Buick</td>\n      <td>Century</td>\n      <td>Sedan 4D</td>\n      <td>Sedan</td>\n      <td>6</td>\n      <td>3.1</td>\n      <td>4</td>\n      <td>1</td>\n      <td>1</td>\n      <td>1</td>\n    </tr>\n    <tr>\n      <th>1</th>\n      <td>17542.036083</td>\n      <td>9135</td>\n      <td>Buick</td>\n      <td>Century</td>\n      <td>Sedan 4D</td>\n      <td>Sedan</td>\n      <td>6</td>\n      <td>3.1</td>\n      <td>4</td>\n      <td>1</td>\n      <td>1</td>\n      <td>0</td>\n    </tr>\n    <tr>\n      <th>2</th>\n      <td>16218.847862</td>\n      <td>13196</td>\n      <td>Buick</td>\n      <td>Century</td>\n      <td>Sedan 4D</td>\n      <td>Sedan</td>\n      <td>6</td>\n      <td>3.1</td>\n      <td>4</td>\n      <td>1</td>\n      <td>1</td>\n      <td>0</td>\n    </tr>\n    <tr>\n      <th>3</th>\n      <td>16336.913140</td>\n      <td>16342</td>\n      <td>Buick</td>\n      <td>Century</td>\n      <td>Sedan 4D</td>\n      <td>Sedan</td>\n      <td>6</td>\n      <td>3.1</td>\n      <td>4</td>\n      <td>1</td>\n      <td>0</td>\n      <td>0</td>\n    </tr>\n    <tr>\n      <th>4</th>\n      <td>16339.170324</td>\n      <td>19832</td>\n      <td>Buick</td>\n      <td>Century</td>\n      <td>Sedan 4D</td>\n      <td>Sedan</td>\n      <td>6</td>\n      <td>3.1</td>\n      <td>4</td>\n      <td>1</td>\n      <td>0</td>\n      <td>1</td>\n    </tr>\n    <tr>\n      <th>5</th>\n      <td>15709.052821</td>\n      <td>22236</td>\n      <td>Buick</td>\n      <td>Century</td>\n      <td>Sedan 4D</td>\n      <td>Sedan</td>\n      <td>6</td>\n      <td>3.1</td>\n      <td>4</td>\n      <td>1</td>\n      <td>1</td>\n      <td>0</td>\n    </tr>\n    <tr>\n      <th>6</th>\n      <td>15230.003390</td>\n      <td>22576</td>\n      <td>Buick</td>\n      <td>Century</td>\n      <td>Sedan 4D</td>\n      <td>Sedan</td>\n      <td>6</td>\n      <td>3.1</td>\n      <td>4</td>\n      <td>1</td>\n      <td>1</td>\n      <td>0</td>\n    </tr>\n    <tr>\n      <th>7</th>\n      <td>15048.042184</td>\n      <td>22964</td>\n      <td>Buick</td>\n      <td>Century</td>\n      <td>Sedan 4D</td>\n      <td>Sedan</td>\n      <td>6</td>\n      <td>3.1</td>\n      <td>4</td>\n      <td>1</td>\n      <td>1</td>\n      <td>0</td>\n    </tr>\n    <tr>\n      <th>8</th>\n      <td>14862.093870</td>\n      <td>24021</td>\n      <td>Buick</td>\n      <td>Century</td>\n      <td>Sedan 4D</td>\n      <td>Sedan</td>\n      <td>6</td>\n      <td>3.1</td>\n      <td>4</td>\n      <td>1</td>\n      <td>0</td>\n      <td>1</td>\n    </tr>\n    <tr>\n      <th>9</th>\n      <td>15295.018267</td>\n      <td>27325</td>\n      <td>Buick</td>\n      <td>Century</td>\n      <td>Sedan 4D</td>\n      <td>Sedan</td>\n      <td>6</td>\n      <td>3.1</td>\n      <td>4</td>\n      <td>1</td>\n      <td>1</td>\n      <td>1</td>\n    </tr>\n  </tbody>\n</table>\n</div>"
     },
     "metadata": {},
     "output_type": "execute_result",
     "execution_count": 62
    }
   ],
   "source": [
    "import pandas as pd\n",
    "\n",
    "df = pd.read_excel('http://cdn.sundog-soft.com/Udemy/DataScience/cars.xls')\n",
    "df.head(10)"
   ]
  },
  {
   "cell_type": "code",
   "execution_count": 80,
   "outputs": [
    {
     "name": "stdout",
     "text": [
      "      Mileage  Cylinder     Liter\n",
      "0   -1.417485   0.52741  0.056736\n",
      "1   -1.305902   0.52741  0.056736\n",
      "2   -0.810128   0.52741  0.056736\n",
      "3   -0.426058   0.52741  0.056736\n",
      "4    0.000008   0.52741  0.056736\n",
      "..        ...       ...       ...\n",
      "799 -0.439853   0.52741 -0.033772\n",
      "800 -0.089966   0.52741 -0.033772\n",
      "801  0.079605   0.52741 -0.033772\n",
      "802  0.750446   0.52741 -0.033772\n",
      "803  1.932565   0.52741 -0.033772\n",
      "\n",
      "[804 rows x 3 columns]\n"
     ],
     "output_type": "stream"
    },
    {
     "name": "stderr",
     "text": [
      "C:\\MyPrograms\\miniconda3\\envs\\datascience\\lib\\site-packages\\ipykernel_launcher.py:8: SettingWithCopyWarning: \n",
      "A value is trying to be set on a copy of a slice from a DataFrame.\n",
      "Try using .loc[row_indexer,col_indexer] = value instead\n",
      "\n",
      "See the caveats in the documentation: https://pandas.pydata.org/pandas-docs/stable/user_guide/indexing.html#returning-a-view-versus-a-copy\n",
      "  \n",
      "C:\\MyPrograms\\miniconda3\\envs\\datascience\\lib\\site-packages\\pandas\\core\\indexing.py:965: SettingWithCopyWarning: \n",
      "A value is trying to be set on a copy of a slice from a DataFrame.\n",
      "Try using .loc[row_indexer,col_indexer] = value instead\n",
      "\n",
      "See the caveats in the documentation: https://pandas.pydata.org/pandas-docs/stable/user_guide/indexing.html#returning-a-view-versus-a-copy\n",
      "  self.obj[item] = s\n"
     ],
     "output_type": "stream"
    },
    {
     "data": {
      "text/plain": "<class 'statsmodels.iolib.summary.Summary'>\n\"\"\"\n                                 OLS Regression Results                                \n=======================================================================================\nDep. Variable:                  Price   R-squared (uncentered):                   0.060\nModel:                            OLS   Adj. R-squared (uncentered):              0.057\nMethod:                 Least Squares   F-statistic:                              17.16\nDate:                Thu, 20 Feb 2020   Prob (F-statistic):                    8.29e-11\nTime:                        14:28:06   Log-Likelihood:                         -9208.5\nNo. Observations:                 804   AIC:                                  1.842e+04\nDf Residuals:                     801   BIC:                                  1.844e+04\nDf Model:                           3                                                  \nCovariance Type:            nonrobust                                                  \n==============================================================================\n                 coef    std err          t      P>|t|      [0.025      0.975]\n------------------------------------------------------------------------------\nMileage    -1264.9827    806.301     -1.569      0.117   -2847.696     317.730\nCylinder    3949.1399   2807.814      1.406      0.160   -1562.403    9460.683\nLiter       1707.3093   2807.083      0.608      0.543   -3802.798    7217.417\n==============================================================================\nOmnibus:                      214.158   Durbin-Watson:                   0.009\nProb(Omnibus):                  0.000   Jarque-Bera (JB):              444.825\nSkew:                           1.499   Prob(JB):                     2.56e-97\nKurtosis:                       5.071   Cond. No.                         6.83\n==============================================================================\n\nWarnings:\n[1] Standard Errors assume that the covariance matrix of the errors is correctly specified.\n\"\"\"",
      "text/html": "<table class=\"simpletable\">\n<caption>OLS Regression Results</caption>\n<tr>\n  <th>Dep. Variable:</th>          <td>Price</td>      <th>  R-squared (uncentered):</th>      <td>   0.060</td> \n</tr>\n<tr>\n  <th>Model:</th>                   <td>OLS</td>       <th>  Adj. R-squared (uncentered):</th> <td>   0.057</td> \n</tr>\n<tr>\n  <th>Method:</th>             <td>Least Squares</td>  <th>  F-statistic:       </th>          <td>   17.16</td> \n</tr>\n<tr>\n  <th>Date:</th>             <td>Thu, 20 Feb 2020</td> <th>  Prob (F-statistic):</th>          <td>8.29e-11</td> \n</tr>\n<tr>\n  <th>Time:</th>                 <td>14:28:06</td>     <th>  Log-Likelihood:    </th>          <td> -9208.5</td> \n</tr>\n<tr>\n  <th>No. Observations:</th>      <td>   804</td>      <th>  AIC:               </th>          <td>1.842e+04</td>\n</tr>\n<tr>\n  <th>Df Residuals:</th>          <td>   801</td>      <th>  BIC:               </th>          <td>1.844e+04</td>\n</tr>\n<tr>\n  <th>Df Model:</th>              <td>     3</td>      <th>                     </th>              <td> </td>    \n</tr>\n<tr>\n  <th>Covariance Type:</th>      <td>nonrobust</td>    <th>                     </th>              <td> </td>    \n</tr>\n</table>\n<table class=\"simpletable\">\n<tr>\n      <td></td>        <th>coef</th>     <th>std err</th>      <th>t</th>      <th>P>|t|</th>  <th>[0.025</th>    <th>0.975]</th>  \n</tr>\n<tr>\n  <th>Mileage</th>  <td>-1264.9827</td> <td>  806.301</td> <td>   -1.569</td> <td> 0.117</td> <td>-2847.696</td> <td>  317.730</td>\n</tr>\n<tr>\n  <th>Cylinder</th> <td> 3949.1399</td> <td> 2807.814</td> <td>    1.406</td> <td> 0.160</td> <td>-1562.403</td> <td> 9460.683</td>\n</tr>\n<tr>\n  <th>Liter</th>    <td> 1707.3093</td> <td> 2807.083</td> <td>    0.608</td> <td> 0.543</td> <td>-3802.798</td> <td> 7217.417</td>\n</tr>\n</table>\n<table class=\"simpletable\">\n<tr>\n  <th>Omnibus:</th>       <td>214.158</td> <th>  Durbin-Watson:     </th> <td>   0.009</td>\n</tr>\n<tr>\n  <th>Prob(Omnibus):</th> <td> 0.000</td>  <th>  Jarque-Bera (JB):  </th> <td> 444.825</td>\n</tr>\n<tr>\n  <th>Skew:</th>          <td> 1.499</td>  <th>  Prob(JB):          </th> <td>2.56e-97</td>\n</tr>\n<tr>\n  <th>Kurtosis:</th>      <td> 5.071</td>  <th>  Cond. No.          </th> <td>    6.83</td>\n</tr>\n</table><br/><br/>Warnings:<br/>[1] Standard Errors assume that the covariance matrix of the errors is correctly specified."
     },
     "metadata": {},
     "output_type": "execute_result",
     "execution_count": 80
    }
   ],
   "source": [
    "import statsmodels.api as sm\n",
    "from sklearn.preprocessing import StandardScaler\n",
    "scale = StandardScaler()\n",
    "\n",
    "X = df[['Mileage', 'Cylinder', 'Liter']]\n",
    "Y = df['Price']\n",
    "\n",
    "X[['Mileage', 'Cylinder', 'Liter']] = scale.fit_transform(X[['Mileage', 'Cylinder', 'Liter']].to_numpy())\n",
    "\n",
    "print (X)\n",
    "\n",
    "est = sm.OLS(Y, X).fit()\n",
    "# est = sm.RLM(Y, X).fit()\n",
    "# est = sm.GLM(Y, X).fit()\n",
    "\n",
    "est.summary()"
   ],
   "metadata": {
    "collapsed": false,
    "pycharm": {
     "name": "#%%\n",
     "is_executing": false
    }
   }
  },
  {
   "cell_type": "code",
   "execution_count": 108,
   "outputs": [
    {
     "data": {
      "text/plain": "<matplotlib.axes._subplots.AxesSubplot at 0x1b334cc8>"
     },
     "metadata": {},
     "output_type": "execute_result",
     "execution_count": 108
    },
    {
     "data": {
      "text/plain": "<Figure size 432x288 with 1 Axes>",
      "image/png": "[encoded data removed]"
     },
     "metadata": {
      "needs_background": "light"
     },
     "output_type": "display_data"
    }
   ],
   "source": [
    "Y.groupby(df.Liter).median().plot.bar()\n",
    "Y.groupby(df.Type).median().plot.bar()\n",
    "Y.groupby(df.Make).median().plot.bar()"
   ],
   "metadata": {
    "collapsed": false,
    "pycharm": {
     "name": "#%%\n",
     "is_executing": false
    }
   }
  },
  {
   "cell_type": "code",
   "execution_count": 117,
   "outputs": [
    {
     "name": "stdout",
     "text": [
      "[[-1.20030142  7.73894143  0.87130875]]\n",
      "[33568.11646003]\n"
     ],
     "output_type": "stream"
    }
   ],
   "source": [
    "scaled = scale.transform([[10000, 16, 4]])\n",
    "print(scaled)\n",
    "predicted = est.predict(scaled[0])\n",
    "print(predicted)"
   ],
   "metadata": {
    "collapsed": false,
    "pycharm": {
     "name": "#%%\n",
     "is_executing": false
    }
   }
  }
 ],
 "metadata": {
  "kernelspec": {
   "display_name": "Python 3",
   "language": "python",
   "name": "python3"
  },
  "language_info": {
   "codemirror_mode": {
    "name": "ipython",
    "version": 3
   },
   "file_extension": ".py",
   "mimetype": "text/x-python",
   "name": "python",
   "nbconvert_exporter": "python",
   "pygments_lexer": "ipython3",
   "version": "3.7.3"
  },
  "pycharm": {
   "stem_cell": {
    "cell_type": "raw",
    "source": [],
    "metadata": {
     "collapsed": false
    }
   }
  }
 },
 "nbformat": 4,
 "nbformat_minor": 1
}