{
 "cells": [
  {
   "cell_type": "markdown",
   "metadata": {},
   "source": [
    "# Naive Bayes (the easy way)"
   ]
  },
  {
   "cell_type": "markdown",
   "metadata": {},
   "source": [
    "We'll cheat by using sklearn.naive_bayes to train a spam classifier! Most of the code is just loading our training data into a pandas DataFrame that we can play with:"
   ]
  },
  {
   "cell_type": "code",
   "execution_count": 72,
   "metadata": {
    "pycharm": {
     "is_executing": false
    }
   },
   "outputs": [
    {
     "data": {
      "text/plain": "                                                                                              message  \\\nemails/spam\\00001.7848dde101aa985090474a91ec93fcf0  <!DOCTYPE HTML PUBLIC \"-//W3C//DTD HTML 4.0 Tr...   \nemails/spam\\00002.d94f1b97e48ed3b553b3508d116e6a09  1) Fight The Risk of Cancer!\\n\\nhttp://www.adc...   \nemails/spam\\00003.2ee33bc6eacdb11f38d052c44819ba6c  1) Fight The Risk of Cancer!\\n\\nhttp://www.adc...   \nemails/spam\\00004.eac8de8d759b7e74154f142194282724  ##############################################...   \nemails/spam\\00005.57696a39d7d84318ce497886896bf90d  I thought you might like these:\\n\\n1) Slim Dow...   \nemails/spam\\00006.5ab5620d3d7c6c0db76234556a16f6c1  A POWERHOUSE GIFTING PROGRAM You Don't Want To...   \nemails/spam\\00007.d8521faf753ff9ee989122f6816f87d7  Help wanted.  We are a 14 year old fortune 500...   \nemails/spam\\00008.dfd941deb10f5eed78b1594b131c9266  <html>\\n\\n<head>\\n\\n<title>ReliaQuote - Save U...   \nemails/spam\\00009.027bf6e0b0c4ab34db3ce0ea4bf2edab  TIRED OF THE BULL OUT THERE?\\n\\nWant To Stop L...   \nemails/spam\\00010.445affef4c70feec58f9198cfbc22997  Dear ricardo1 ,\\n\\n\\n\\n<html>\\n\\n<body>\\n\\n<ce...   \n\n                                                   class  \nemails/spam\\00001.7848dde101aa985090474a91ec93fcf0  spam  \nemails/spam\\00002.d94f1b97e48ed3b553b3508d116e6a09  spam  \nemails/spam\\00003.2ee33bc6eacdb11f38d052c44819ba6c  spam  \nemails/spam\\00004.eac8de8d759b7e74154f142194282724  spam  \nemails/spam\\00005.57696a39d7d84318ce497886896bf90d  spam  \nemails/spam\\00006.5ab5620d3d7c6c0db76234556a16f6c1  spam  \nemails/spam\\00007.d8521faf753ff9ee989122f6816f87d7  spam  \nemails/spam\\00008.dfd941deb10f5eed78b1594b131c9266  spam  \nemails/spam\\00009.027bf6e0b0c4ab34db3ce0ea4bf2edab  spam  \nemails/spam\\00010.445affef4c70feec58f9198cfbc22997  spam  ",
      "text/html": "<div>\n<style scoped>\n    .dataframe tbody tr th:only-of-type {\n        vertical-align: middle;\n    }\n\n    .dataframe tbody tr th {\n        vertical-align: top;\n    }\n\n    .dataframe thead th {\n        text-align: right;\n    }\n</style>\n<table border=\"1\" class=\"dataframe\">\n  <thead>\n    <tr style=\"text-align: right;\">\n      <th></th>\n      <th>message</th>\n      <th>class</th>\n    </tr>\n  </thead>\n  <tbody>\n    <tr>\n      <th>emails/spam\\00001.7848dde101aa985090474a91ec93fcf0</th>\n      <td>&lt;!DOCTYPE HTML PUBLIC \"-//W3C//DTD HTML 4.0 Tr...</td>\n      <td>spam</td>\n    </tr>\n    <tr>\n      <th>emails/spam\\00002.d94f1b97e48ed3b553b3508d116e6a09</th>\n      <td>1) Fight The Risk of Cancer!\\n\\nhttp://www.adc...</td>\n      <td>spam</td>\n    </tr>\n    <tr>\n      <th>emails/spam\\00003.2ee33bc6eacdb11f38d052c44819ba6c</th>\n      <td>1) Fight The Risk of Cancer!\\n\\nhttp://www.adc...</td>\n      <td>spam</td>\n    </tr>\n    <tr>\n      <th>emails/spam\\00004.eac8de8d759b7e74154f142194282724</th>\n      <td>##############################################...</td>\n      <td>spam</td>\n    </tr>\n    <tr>\n      <th>emails/spam\\00005.57696a39d7d84318ce497886896bf90d</th>\n      <td>I thought you might like these:\\n\\n1) Slim Dow...</td>\n      <td>spam</td>\n    </tr>\n    <tr>\n      <th>emails/spam\\00006.5ab5620d3d7c6c0db76234556a16f6c1</th>\n      <td>A POWERHOUSE GIFTING PROGRAM You Don't Want To...</td>\n      <td>spam</td>\n    </tr>\n    <tr>\n      <th>emails/spam\\00007.d8521faf753ff9ee989122f6816f87d7</th>\n      <td>Help wanted.  We are a 14 year old fortune 500...</td>\n      <td>spam</td>\n    </tr>\n    <tr>\n      <th>emails/spam\\00008.dfd941deb10f5eed78b1594b131c9266</th>\n      <td>&lt;html&gt;\\n\\n&lt;head&gt;\\n\\n&lt;title&gt;ReliaQuote - Save U...</td>\n      <td>spam</td>\n    </tr>\n    <tr>\n      <th>emails/spam\\00009.027bf6e0b0c4ab34db3ce0ea4bf2edab</th>\n      <td>TIRED OF THE BULL OUT THERE?\\n\\nWant To Stop L...</td>\n      <td>spam</td>\n    </tr>\n    <tr>\n      <th>emails/spam\\00010.445affef4c70feec58f9198cfbc22997</th>\n      <td>Dear ricardo1 ,\\n\\n\\n\\n&lt;html&gt;\\n\\n&lt;body&gt;\\n\\n&lt;ce...</td>\n      <td>spam</td>\n    </tr>\n  </tbody>\n</table>\n</div>"
     },
     "metadata": {},
     "output_type": "execute_result",
     "execution_count": 72
    }
   ],
   "source": [
    "import io\n",
    "import os\n",
    "\n",
    "from pandas import DataFrame\n",
    "from sklearn.feature_extraction.text import CountVectorizer\n",
    "from sklearn.naive_bayes import MultinomialNB\n",
    "\n",
    "def readFiles(path):\n",
    "    for root, dir_names, filenames in os.walk(path):\n",
    "        for filename in filenames:\n",
    "            path = os.path.join(root, filename)\n",
    "\n",
    "            inBody = False\n",
    "            lines = []\n",
    "            f = io.open(path, 'r', encoding='latin1')\n",
    "            for line in f:\n",
    "                if inBody:\n",
    "                    lines.append(line)\n",
    "                elif line == '\\n':\n",
    "                    inBody = True\n",
    "            f.close()\n",
    "            message = '\\n'.join(lines)\n",
    "            yield path, message\n",
    "\n",
    "\n",
    "def dataFrameFromDirectory(path, classification):\n",
    "    rows = []\n",
    "    index = []\n",
    "    for filename, message in readFiles(path):\n",
    "        rows.append({'message': message, 'class': classification})\n",
    "        index.append(filename)\n",
    "\n",
    "    return DataFrame(rows, index=index)\n",
    "    # return DataFrame(rows)\n",
    "\n",
    "data = DataFrame({'message': [], 'class': []})\n",
    "\n",
    "data = data.append(dataFrameFromDirectory('emails/spam', 'spam'))\n",
    "data = data.append(dataFrameFromDirectory('emails/ham', 'ham'))\n",
    "data.head(10)"
   ]
  },
  {
   "cell_type": "markdown",
   "metadata": {},
   "source": [
    "Let's have a look at that DataFrame:"
   ]
  },
  {
   "cell_type": "code",
   "execution_count": 15,
   "metadata": {
    "pycharm": {
     "is_executing": false
    }
   },
   "outputs": [
    {
     "data": {
      "text/plain": "                                                                                              message  \\\nemails/spam\\00001.7848dde101aa985090474a91ec93fcf0  <!DOCTYPE HTML PUBLIC \"-//W3C//DTD HTML 4.0 Tr...   \nemails/spam\\00002.d94f1b97e48ed3b553b3508d116e6a09  1) Fight The Risk of Cancer!\\n\\nhttp://www.adc...   \nemails/spam\\00003.2ee33bc6eacdb11f38d052c44819ba6c  1) Fight The Risk of Cancer!\\n\\nhttp://www.adc...   \nemails/spam\\00004.eac8de8d759b7e74154f142194282724  ##############################################...   \nemails/spam\\00005.57696a39d7d84318ce497886896bf90d  I thought you might like these:\\n\\n1) Slim Dow...   \n\n                                                   class  \nemails/spam\\00001.7848dde101aa985090474a91ec93fcf0  spam  \nemails/spam\\00002.d94f1b97e48ed3b553b3508d116e6a09  spam  \nemails/spam\\00003.2ee33bc6eacdb11f38d052c44819ba6c  spam  \nemails/spam\\00004.eac8de8d759b7e74154f142194282724  spam  \nemails/spam\\00005.57696a39d7d84318ce497886896bf90d  spam  ",
      "text/html": "<div>\n<style scoped>\n    .dataframe tbody tr th:only-of-type {\n        vertical-align: middle;\n    }\n\n    .dataframe tbody tr th {\n        vertical-align: top;\n    }\n\n    .dataframe thead th {\n        text-align: right;\n    }\n</style>\n<table border=\"1\" class=\"dataframe\">\n  <thead>\n    <tr style=\"text-align: right;\">\n      <th></th>\n      <th>message</th>\n      <th>class</th>\n    </tr>\n  </thead>\n  <tbody>\n    <tr>\n      <th>emails/spam\\00001.7848dde101aa985090474a91ec93fcf0</th>\n      <td>&lt;!DOCTYPE HTML PUBLIC \"-//W3C//DTD HTML 4.0 Tr...</td>\n      <td>spam</td>\n    </tr>\n    <tr>\n      <th>emails/spam\\00002.d94f1b97e48ed3b553b3508d116e6a09</th>\n      <td>1) Fight The Risk of Cancer!\\n\\nhttp://www.adc...</td>\n      <td>spam</td>\n    </tr>\n    <tr>\n      <th>emails/spam\\00003.2ee33bc6eacdb11f38d052c44819ba6c</th>\n      <td>1) Fight The Risk of Cancer!\\n\\nhttp://www.adc...</td>\n      <td>spam</td>\n    </tr>\n    <tr>\n      <th>emails/spam\\00004.eac8de8d759b7e74154f142194282724</th>\n      <td>##############################################...</td>\n      <td>spam</td>\n    </tr>\n    <tr>\n      <th>emails/spam\\00005.57696a39d7d84318ce497886896bf90d</th>\n      <td>I thought you might like these:\\n\\n1) Slim Dow...</td>\n      <td>spam</td>\n    </tr>\n  </tbody>\n</table>\n</div>"
     },
     "metadata": {},
     "output_type": "execute_result",
     "execution_count": 15
    }
   ],
   "source": [
    "data.head()"
   ]
  },
  {
   "cell_type": "markdown",
   "metadata": {},
   "source": [
    "Now we will use a CountVectorizer to split up each message into its list of words, and throw that into a MultinomialNB classifier. Call fit() and we've got a trained spam filter ready to go! It's just that easy."
   ]
  },
  {
   "cell_type": "code",
   "execution_count": 21,
   "metadata": {
    "pycharm": {
     "is_executing": false
    }
   },
   "outputs": [
    {
     "data": {
      "text/plain": "MultinomialNB(alpha=1.0, class_prior=None, fit_prior=True)"
     },
     "metadata": {},
     "output_type": "execute_result",
     "execution_count": 21
    }
   ],
   "source": [
    "vectorizer = CountVectorizer()\n",
    "counts = vectorizer.fit_transform(data['message'].values)\n",
    "\n",
    "classifier = MultinomialNB()\n",
    "targets = data['class'].values\n",
    "classifier.fit(counts, targets)"
   ]
  },
  {
   "cell_type": "markdown",
   "metadata": {},
   "source": [
    "Let's try it out:"
   ]
  },
  {
   "cell_type": "code",
   "execution_count": 22,
   "metadata": {
    "pycharm": {
     "is_executing": false
    }
   },
   "outputs": [
    {
     "data": {
      "text/plain": "array(['spam', 'ham'], dtype='<U4')"
     },
     "metadata": {},
     "output_type": "execute_result",
     "execution_count": 22
    }
   ],
   "source": [
    "examples = ['Free Viagra now!!!', \"Hi Bob, how about a game of golf tomorrow?\"]\n",
    "example_counts = vectorizer.transform(examples)\n",
    "predictions = classifier.predict(example_counts)\n",
    "predictions"
   ]
  },
  {
   "cell_type": "markdown",
   "metadata": {},
   "source": [
    "## Activity"
   ]
  },
  {
   "cell_type": "markdown",
   "metadata": {},
   "source": [
    "Our data set is small, so our spam classifier isn't actually very good. Try running some different test emails through it and see if you get the results you expect.\n",
    "\n",
    "If you really want to challenge yourself, try applying train/test to this spam classifier - see how well it can predict some subset of the ham and spam emails."
   ]
  },
  {
   "cell_type": "code",
   "execution_count": 96,
   "metadata": {
    "pycharm": {
     "is_executing": false
    }
   },
   "outputs": [
    {
     "name": "stdout",
     "text": [
      "Truth coefficient is: 0.0267\n"
     ],
     "output_type": "stream"
    },
    {
     "data": {
      "text/plain": "                                              message  real predicted\n0   You have been removed from our list.\\n\\nYou wi...  spam       ham\n1   HELLO...By reading the short Summary just belo...  spam       ham\n2   Hi -\\n\\n\\n\\n( http://club.4tfox.com )\\n\\n\\n\\nY...  spam       ham\n3   Greetings! \\n\\n\\n\\nYou are receiving this lett...  spam       ham\n4    ilug ,\\n\\n\\n\\n From;Mr.Michael Kamah and Fami...  spam       ham\n5   Hello, my name is Kelly, I am an 18 year old s...  spam       ham\n6   Legal TV Descarmbler\\n\\n\\n\\nWant to watch Spor...  spam       ham\n7   HABERDAR.COM - HABER VE MEDYA PORTALI\\n\\nArtýk...  spam       ham\n8   Opportunity is knocking. Why?\\n\\n\\n\\nBecause m...  spam       ham\n9   _/ _/ _/ _/ _/ _/ _/ _/ _/ _/ _/ _/ _/ _/ _/ _...  spam       ham\n10  This is a multi-part message in MIME format......   ham      spam\n11  Dear zzzzason.org,\\n\\n\\n\\nMy name is Andy Koh,...  spam       ham\n12  \\n\\nHallo,\\n\\n\\n\\n\\n\\nI found yours Email ID i...  spam       ham\n13  Wanna see sexually curious teens playing with ...  spam       ham\n14  Dear Sir or Madam:\\n\\n\\n\\nPlease reply to \\n\\n...  spam       ham\n15  Dear Sir, \\n\\nWith due respect and humility I ...  spam       ham",
      "text/html": "<div>\n<style scoped>\n    .dataframe tbody tr th:only-of-type {\n        vertical-align: middle;\n    }\n\n    .dataframe tbody tr th {\n        vertical-align: top;\n    }\n\n    .dataframe thead th {\n        text-align: right;\n    }\n</style>\n<table border=\"1\" class=\"dataframe\">\n  <thead>\n    <tr style=\"text-align: right;\">\n      <th></th>\n      <th>message</th>\n      <th>real</th>\n      <th>predicted</th>\n    </tr>\n  </thead>\n  <tbody>\n    <tr>\n      <th>0</th>\n      <td>You have been removed from our list.\\n\\nYou wi...</td>\n      <td>spam</td>\n      <td>ham</td>\n    </tr>\n    <tr>\n      <th>1</th>\n      <td>HELLO...By reading the short Summary just belo...</td>\n      <td>spam</td>\n      <td>ham</td>\n    </tr>\n    <tr>\n      <th>2</th>\n      <td>Hi -\\n\\n\\n\\n( http://club.4tfox.com )\\n\\n\\n\\nY...</td>\n      <td>spam</td>\n      <td>ham</td>\n    </tr>\n    <tr>\n      <th>3</th>\n      <td>Greetings! \\n\\n\\n\\nYou are receiving this lett...</td>\n      <td>spam</td>\n      <td>ham</td>\n    </tr>\n    <tr>\n      <th>4</th>\n      <td>ilug ,\\n\\n\\n\\n From;Mr.Michael Kamah and Fami...</td>\n      <td>spam</td>\n      <td>ham</td>\n    </tr>\n    <tr>\n      <th>5</th>\n      <td>Hello, my name is Kelly, I am an 18 year old s...</td>\n      <td>spam</td>\n      <td>ham</td>\n    </tr>\n    <tr>\n      <th>6</th>\n      <td>Legal TV Descarmbler\\n\\n\\n\\nWant to watch Spor...</td>\n      <td>spam</td>\n      <td>ham</td>\n    </tr>\n    <tr>\n      <th>7</th>\n      <td>HABERDAR.COM - HABER VE MEDYA PORTALI\\n\\nArtýk...</td>\n      <td>spam</td>\n      <td>ham</td>\n    </tr>\n    <tr>\n      <th>8</th>\n      <td>Opportunity is knocking. Why?\\n\\n\\n\\nBecause m...</td>\n      <td>spam</td>\n      <td>ham</td>\n    </tr>\n    <tr>\n      <th>9</th>\n      <td>_/ _/ _/ _/ _/ _/ _/ _/ _/ _/ _/ _/ _/ _/ _/ _...</td>\n      <td>spam</td>\n      <td>ham</td>\n    </tr>\n    <tr>\n      <th>10</th>\n      <td>This is a multi-part message in MIME format......</td>\n      <td>ham</td>\n      <td>spam</td>\n    </tr>\n    <tr>\n      <th>11</th>\n      <td>Dear zzzzason.org,\\n\\n\\n\\nMy name is Andy Koh,...</td>\n      <td>spam</td>\n      <td>ham</td>\n    </tr>\n    <tr>\n      <th>12</th>\n      <td>\\n\\nHallo,\\n\\n\\n\\n\\n\\nI found yours Email ID i...</td>\n      <td>spam</td>\n      <td>ham</td>\n    </tr>\n    <tr>\n      <th>13</th>\n      <td>Wanna see sexually curious teens playing with ...</td>\n      <td>spam</td>\n      <td>ham</td>\n    </tr>\n    <tr>\n      <th>14</th>\n      <td>Dear Sir or Madam:\\n\\n\\n\\nPlease reply to \\n\\n...</td>\n      <td>spam</td>\n      <td>ham</td>\n    </tr>\n    <tr>\n      <th>15</th>\n      <td>Dear Sir, \\n\\nWith due respect and humility I ...</td>\n      <td>spam</td>\n      <td>ham</td>\n    </tr>\n  </tbody>\n</table>\n</div>"
     },
     "metadata": {},
     "output_type": "execute_result",
     "execution_count": 96
    }
   ],
   "source": [
    "from sklearn.model_selection import train_test_split\n",
    "\n",
    "def predict_spam(train_df:DataFrame, bodies:list):\n",
    "    cv = CountVectorizer()\n",
    "    clsf = MultinomialNB()\n",
    "    \n",
    "    message_counts = cv.fit_transform(train_df['message'].values)\n",
    "    clsf.fit(message_counts, train_df['class'].values)\n",
    "    pr = clsf.predict(cv.transform(bodies))\n",
    "    return  DataFrame({'message': bodies, 'class': pr})\n",
    "\n",
    "def get_test_results(train_df:DataFrame, test_df:DataFrame):\n",
    "    prediction = predict_spam(train_df, test_df.message)\n",
    "    messages, real, predicted = [], [], []\n",
    "    for index, row in test_df.iterrows():\n",
    "        p, r = prediction['class'][index], row['class']\n",
    "        if r != p:\n",
    "            messages.append(row['message'])\n",
    "            real.append(r)\n",
    "            predicted.append(p)\n",
    "    return DataFrame({'message': messages, 'real': real, 'predicted': predicted})\n",
    "\n",
    "train, test = train_test_split(data, test_size=0.2)\n",
    "\n",
    "examples = [\"Nothing\", \"off\", \"adult\"]\n",
    "p = get_test_results(train, test)\n",
    "\n",
    "print(f\"Truth coefficient is: {len(p)/len(test):.4f}\")\n",
    "p.head(20)"
   ]
  }
 ],
 "metadata": {
  "kernelspec": {
   "display_name": "Python 3",
   "language": "python",
   "name": "python3"
  },
  "language_info": {
   "codemirror_mode": {
    "name": "ipython",
    "version": 3
   },
   "file_extension": ".py",
   "mimetype": "text/x-python",
   "name": "python",
   "nbconvert_exporter": "python",
   "pygments_lexer": "ipython3",
   "version": "3.7.3"
  },
  "pycharm": {
   "stem_cell": {
    "cell_type": "raw",
    "source": [],
    "metadata": {
     "collapsed": false
    }
   }
  }
 },
 "nbformat": 4,
 "nbformat_minor": 1
}