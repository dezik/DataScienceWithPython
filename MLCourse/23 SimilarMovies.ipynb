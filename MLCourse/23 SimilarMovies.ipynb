{
 "cells": [
  {
   "cell_type": "markdown",
   "metadata": {},
   "source": [
    "# Finding Similar Movies"
   ]
  },
  {
   "cell_type": "markdown",
   "metadata": {},
   "source": [
    "We'll start by loading up the MovieLens dataset. Using Pandas, we can very quickly load the rows of the u.data and u.item files that we care about, and merge them together so we can work with movie names instead of ID's. (In a real production job, you'd stick with ID's and worry about the names at the display layer to make things more efficient. But this lets us understand what's going on better for now.)"
   ]
  },
  {
   "cell_type": "code",
   "execution_count": 65,
   "metadata": {
    "pycharm": {
     "is_executing": false
    }
   },
   "outputs": [],
   "source": [
    "import pandas as pd\n",
    "\n",
    "r_cols = ['user_id', 'movie_id', 'rating']\n",
    "ratings = pd.read_csv('ml-100k/u.data', sep='\\t', names=r_cols, usecols=range(3), encoding=\"ISO-8859-1\")\n",
    "\n",
    "m_cols = ['movie_id', 'title']\n",
    "movies = pd.read_csv('ml-100k/u.item', sep='|', names=m_cols, usecols=range(2), encoding=\"ISO-8859-1\")\n",
    "\n",
    "ratings = pd.merge(movies, ratings)"
   ]
  },
  {
   "cell_type": "code",
   "execution_count": 66,
   "metadata": {
    "pycharm": {
     "is_executing": false
    }
   },
   "outputs": [
    {
     "data": {
      "text/plain": "   movie_id             title  user_id  rating\n0         1  Toy Story (1995)      308       4\n1         1  Toy Story (1995)      287       5\n2         1  Toy Story (1995)      148       4\n3         1  Toy Story (1995)      280       4\n4         1  Toy Story (1995)       66       3",
      "text/html": "<div>\n<style scoped>\n    .dataframe tbody tr th:only-of-type {\n        vertical-align: middle;\n    }\n\n    .dataframe tbody tr th {\n        vertical-align: top;\n    }\n\n    .dataframe thead th {\n        text-align: right;\n    }\n</style>\n<table border=\"1\" class=\"dataframe\">\n  <thead>\n    <tr style=\"text-align: right;\">\n      <th></th>\n      <th>movie_id</th>\n      <th>title</th>\n      <th>user_id</th>\n      <th>rating</th>\n    </tr>\n  </thead>\n  <tbody>\n    <tr>\n      <th>0</th>\n      <td>1</td>\n      <td>Toy Story (1995)</td>\n      <td>308</td>\n      <td>4</td>\n    </tr>\n    <tr>\n      <th>1</th>\n      <td>1</td>\n      <td>Toy Story (1995)</td>\n      <td>287</td>\n      <td>5</td>\n    </tr>\n    <tr>\n      <th>2</th>\n      <td>1</td>\n      <td>Toy Story (1995)</td>\n      <td>148</td>\n      <td>4</td>\n    </tr>\n    <tr>\n      <th>3</th>\n      <td>1</td>\n      <td>Toy Story (1995)</td>\n      <td>280</td>\n      <td>4</td>\n    </tr>\n    <tr>\n      <th>4</th>\n      <td>1</td>\n      <td>Toy Story (1995)</td>\n      <td>66</td>\n      <td>3</td>\n    </tr>\n  </tbody>\n</table>\n</div>"
     },
     "metadata": {},
     "output_type": "execute_result",
     "execution_count": 66
    }
   ],
   "source": [
    "ratings.head()"
   ]
  },
  {
   "cell_type": "markdown",
   "metadata": {},
   "source": [
    "Now the amazing pivot_table function on a DataFrame will construct a user / movie rating matrix. Note how NaN indicates missing data - movies that specific users didn't rate."
   ]
  },
  {
   "cell_type": "code",
   "execution_count": 67,
   "metadata": {
    "pycharm": {
     "is_executing": false
    }
   },
   "outputs": [
    {
     "data": {
      "text/plain": "title    'Til There Was You (1997)  1-900 (1994)  101 Dalmatians (1996)  \\\nuser_id                                                                   \n0                              NaN           NaN                    NaN   \n1                              NaN           NaN                    2.0   \n2                              NaN           NaN                    NaN   \n3                              NaN           NaN                    NaN   \n4                              NaN           NaN                    NaN   \n\ntitle    12 Angry Men (1957)  187 (1997)  2 Days in the Valley (1996)  \\\nuser_id                                                                 \n0                        NaN         NaN                          NaN   \n1                        5.0         NaN                          NaN   \n2                        NaN         NaN                          NaN   \n3                        NaN         2.0                          NaN   \n4                        NaN         NaN                          NaN   \n\ntitle    20,000 Leagues Under the Sea (1954)  2001: A Space Odyssey (1968)  \\\nuser_id                                                                      \n0                                        NaN                           NaN   \n1                                        3.0                           4.0   \n2                                        NaN                           NaN   \n3                                        NaN                           NaN   \n4                                        NaN                           NaN   \n\ntitle    3 Ninjas: High Noon At Mega Mountain (1998)  39 Steps, The (1935)  \\\nuser_id                                                                      \n0                                                NaN                   NaN   \n1                                                NaN                   NaN   \n2                                                1.0                   NaN   \n3                                                NaN                   NaN   \n4                                                NaN                   NaN   \n\ntitle    ...  Yankee Zulu (1994)  Year of the Horse (1997)  \\\nuser_id  ...                                                 \n0        ...                 NaN                       NaN   \n1        ...                 NaN                       NaN   \n2        ...                 NaN                       NaN   \n3        ...                 NaN                       NaN   \n4        ...                 NaN                       NaN   \n\ntitle    You So Crazy (1994)  Young Frankenstein (1974)  Young Guns (1988)  \\\nuser_id                                                                      \n0                        NaN                        NaN                NaN   \n1                        NaN                        5.0                3.0   \n2                        NaN                        NaN                NaN   \n3                        NaN                        NaN                NaN   \n4                        NaN                        NaN                NaN   \n\ntitle    Young Guns II (1990)  Young Poisoner's Handbook, The (1995)  \\\nuser_id                                                                \n0                         NaN                                    NaN   \n1                         NaN                                    NaN   \n2                         NaN                                    NaN   \n3                         NaN                                    NaN   \n4                         NaN                                    NaN   \n\ntitle    Zeus and Roxanne (1997)  unknown  Á köldum klaka (Cold Fever) (1994)  \nuser_id                                                                        \n0                            NaN      NaN                                 NaN  \n1                            NaN      4.0                                 NaN  \n2                            NaN      NaN                                 NaN  \n3                            NaN      NaN                                 NaN  \n4                            NaN      NaN                                 NaN  \n\n[5 rows x 1664 columns]",
      "text/html": "<div>\n<style scoped>\n    .dataframe tbody tr th:only-of-type {\n        vertical-align: middle;\n    }\n\n    .dataframe tbody tr th {\n        vertical-align: top;\n    }\n\n    .dataframe thead th {\n        text-align: right;\n    }\n</style>\n<table border=\"1\" class=\"dataframe\">\n  <thead>\n    <tr style=\"text-align: right;\">\n      <th>title</th>\n      <th>'Til There Was You (1997)</th>\n      <th>1-900 (1994)</th>\n      <th>101 Dalmatians (1996)</th>\n      <th>12 Angry Men (1957)</th>\n      <th>187 (1997)</th>\n      <th>2 Days in the Valley (1996)</th>\n      <th>20,000 Leagues Under the Sea (1954)</th>\n      <th>2001: A Space Odyssey (1968)</th>\n      <th>3 Ninjas: High Noon At Mega Mountain (1998)</th>\n      <th>39 Steps, The (1935)</th>\n      <th>...</th>\n      <th>Yankee Zulu (1994)</th>\n      <th>Year of the Horse (1997)</th>\n      <th>You So Crazy (1994)</th>\n      <th>Young Frankenstein (1974)</th>\n      <th>Young Guns (1988)</th>\n      <th>Young Guns II (1990)</th>\n      <th>Young Poisoner's Handbook, The (1995)</th>\n      <th>Zeus and Roxanne (1997)</th>\n      <th>unknown</th>\n      <th>Á köldum klaka (Cold Fever) (1994)</th>\n    </tr>\n    <tr>\n      <th>user_id</th>\n      <th></th>\n      <th></th>\n      <th></th>\n      <th></th>\n      <th></th>\n      <th></th>\n      <th></th>\n      <th></th>\n      <th></th>\n      <th></th>\n      <th></th>\n      <th></th>\n      <th></th>\n      <th></th>\n      <th></th>\n      <th></th>\n      <th></th>\n      <th></th>\n      <th></th>\n      <th></th>\n      <th></th>\n    </tr>\n  </thead>\n  <tbody>\n    <tr>\n      <th>0</th>\n      <td>NaN</td>\n      <td>NaN</td>\n      <td>NaN</td>\n      <td>NaN</td>\n      <td>NaN</td>\n      <td>NaN</td>\n      <td>NaN</td>\n      <td>NaN</td>\n      <td>NaN</td>\n      <td>NaN</td>\n      <td>...</td>\n      <td>NaN</td>\n      <td>NaN</td>\n      <td>NaN</td>\n      <td>NaN</td>\n      <td>NaN</td>\n      <td>NaN</td>\n      <td>NaN</td>\n      <td>NaN</td>\n      <td>NaN</td>\n      <td>NaN</td>\n    </tr>\n    <tr>\n      <th>1</th>\n      <td>NaN</td>\n      <td>NaN</td>\n      <td>2.0</td>\n      <td>5.0</td>\n      <td>NaN</td>\n      <td>NaN</td>\n      <td>3.0</td>\n      <td>4.0</td>\n      <td>NaN</td>\n      <td>NaN</td>\n      <td>...</td>\n      <td>NaN</td>\n      <td>NaN</td>\n      <td>NaN</td>\n      <td>5.0</td>\n      <td>3.0</td>\n      <td>NaN</td>\n      <td>NaN</td>\n      <td>NaN</td>\n      <td>4.0</td>\n      <td>NaN</td>\n    </tr>\n    <tr>\n      <th>2</th>\n      <td>NaN</td>\n      <td>NaN</td>\n      <td>NaN</td>\n      <td>NaN</td>\n      <td>NaN</td>\n      <td>NaN</td>\n      <td>NaN</td>\n      <td>NaN</td>\n      <td>1.0</td>\n      <td>NaN</td>\n      <td>...</td>\n      <td>NaN</td>\n      <td>NaN</td>\n      <td>NaN</td>\n      <td>NaN</td>\n      <td>NaN</td>\n      <td>NaN</td>\n      <td>NaN</td>\n      <td>NaN</td>\n      <td>NaN</td>\n      <td>NaN</td>\n    </tr>\n    <tr>\n      <th>3</th>\n      <td>NaN</td>\n      <td>NaN</td>\n      <td>NaN</td>\n      <td>NaN</td>\n      <td>2.0</td>\n      <td>NaN</td>\n      <td>NaN</td>\n      <td>NaN</td>\n      <td>NaN</td>\n      <td>NaN</td>\n      <td>...</td>\n      <td>NaN</td>\n      <td>NaN</td>\n      <td>NaN</td>\n      <td>NaN</td>\n      <td>NaN</td>\n      <td>NaN</td>\n      <td>NaN</td>\n      <td>NaN</td>\n      <td>NaN</td>\n      <td>NaN</td>\n    </tr>\n    <tr>\n      <th>4</th>\n      <td>NaN</td>\n      <td>NaN</td>\n      <td>NaN</td>\n      <td>NaN</td>\n      <td>NaN</td>\n      <td>NaN</td>\n      <td>NaN</td>\n      <td>NaN</td>\n      <td>NaN</td>\n      <td>NaN</td>\n      <td>...</td>\n      <td>NaN</td>\n      <td>NaN</td>\n      <td>NaN</td>\n      <td>NaN</td>\n      <td>NaN</td>\n      <td>NaN</td>\n      <td>NaN</td>\n      <td>NaN</td>\n      <td>NaN</td>\n      <td>NaN</td>\n    </tr>\n  </tbody>\n</table>\n<p>5 rows × 1664 columns</p>\n</div>"
     },
     "metadata": {},
     "output_type": "execute_result",
     "execution_count": 67
    }
   ],
   "source": [
    "movieRatings = ratings.pivot_table(index=['user_id'],columns=['title'],values='rating')\n",
    "movieRatings.head()"
   ]
  },
  {
   "cell_type": "markdown",
   "metadata": {},
   "source": [
    "Let's extract a Series of users who rated Star Wars:"
   ]
  },
  {
   "cell_type": "code",
   "execution_count": 68,
   "metadata": {
    "pycharm": {
     "is_executing": false
    }
   },
   "outputs": [
    {
     "data": {
      "text/plain": "user_id\n0    5.0\n1    5.0\n2    5.0\n3    NaN\n4    5.0\nName: Star Wars (1977), dtype: float64"
     },
     "metadata": {},
     "output_type": "execute_result",
     "execution_count": 68
    }
   ],
   "source": [
    "starWarsRatings = movieRatings['Star Wars (1977)']\n",
    "starWarsRatings.head()"
   ]
  },
  {
   "cell_type": "markdown",
   "metadata": {},
   "source": [
    "Pandas' corrwith function makes it really easy to compute the pairwise correlation of Star Wars' vector of user rating with every other movie! After that, we'll drop any results that have no data, and construct a new DataFrame of movies and their correlation score (similarity) to Star Wars:"
   ]
  },
  {
   "cell_type": "code",
   "execution_count": 69,
   "metadata": {
    "pycharm": {
     "is_executing": false
    }
   },
   "outputs": [
    {
     "name": "stderr",
     "text": [
      "C:\\MyPrograms\\miniconda3\\envs\\datascience\\lib\\site-packages\\numpy\\lib\\function_base.py:2526: RuntimeWarning: Degrees of freedom <= 0 for slice\n",
      "  c = cov(x, y, rowvar)\n",
      "C:\\MyPrograms\\miniconda3\\envs\\datascience\\lib\\site-packages\\numpy\\lib\\function_base.py:2455: RuntimeWarning: divide by zero encountered in true_divide\n",
      "  c *= np.true_divide(1, fact)\n"
     ],
     "output_type": "stream"
    },
    {
     "data": {
      "text/plain": "                                            0\ntitle                                        \n'Til There Was You (1997)            0.872872\n1-900 (1994)                        -0.645497\n101 Dalmatians (1996)                0.211132\n12 Angry Men (1957)                  0.184289\n187 (1997)                           0.027398\n2 Days in the Valley (1996)          0.066654\n20,000 Leagues Under the Sea (1954)  0.289768\n2001: A Space Odyssey (1968)         0.230884\n39 Steps, The (1935)                 0.106453\n8 1/2 (1963)                        -0.142977",
      "text/html": "<div>\n<style scoped>\n    .dataframe tbody tr th:only-of-type {\n        vertical-align: middle;\n    }\n\n    .dataframe tbody tr th {\n        vertical-align: top;\n    }\n\n    .dataframe thead th {\n        text-align: right;\n    }\n</style>\n<table border=\"1\" class=\"dataframe\">\n  <thead>\n    <tr style=\"text-align: right;\">\n      <th></th>\n      <th>0</th>\n    </tr>\n    <tr>\n      <th>title</th>\n      <th></th>\n    </tr>\n  </thead>\n  <tbody>\n    <tr>\n      <th>'Til There Was You (1997)</th>\n      <td>0.872872</td>\n    </tr>\n    <tr>\n      <th>1-900 (1994)</th>\n      <td>-0.645497</td>\n    </tr>\n    <tr>\n      <th>101 Dalmatians (1996)</th>\n      <td>0.211132</td>\n    </tr>\n    <tr>\n      <th>12 Angry Men (1957)</th>\n      <td>0.184289</td>\n    </tr>\n    <tr>\n      <th>187 (1997)</th>\n      <td>0.027398</td>\n    </tr>\n    <tr>\n      <th>2 Days in the Valley (1996)</th>\n      <td>0.066654</td>\n    </tr>\n    <tr>\n      <th>20,000 Leagues Under the Sea (1954)</th>\n      <td>0.289768</td>\n    </tr>\n    <tr>\n      <th>2001: A Space Odyssey (1968)</th>\n      <td>0.230884</td>\n    </tr>\n    <tr>\n      <th>39 Steps, The (1935)</th>\n      <td>0.106453</td>\n    </tr>\n    <tr>\n      <th>8 1/2 (1963)</th>\n      <td>-0.142977</td>\n    </tr>\n  </tbody>\n</table>\n</div>"
     },
     "metadata": {},
     "output_type": "execute_result",
     "execution_count": 69
    }
   ],
   "source": [
    "similarMovies = movieRatings.corrwith(starWarsRatings)\n",
    "similarMovies = similarMovies.dropna()\n",
    "df = pd.DataFrame(similarMovies)\n",
    "df.head(10)"
   ]
  },
  {
   "cell_type": "markdown",
   "metadata": {},
   "source": [
    "(That warning is safe to ignore.) Let's sort the results by similarity score, and we should have the movies most similar to Star Wars! Except... we don't. These results make no sense at all! This is why it's important to know your data - clearly we missed something important."
   ]
  },
  {
   "cell_type": "code",
   "execution_count": 70,
   "metadata": {
    "pycharm": {
     "is_executing": false
    }
   },
   "outputs": [
    {
     "data": {
      "text/plain": "title\nNo Escape (1994)                          1.0\nMan of the Year (1995)                    1.0\nHollow Reed (1996)                        1.0\nCommandments (1997)                       1.0\nCosi (1996)                               1.0\n                                         ... \nTheodore Rex (1995)                      -1.0\nI Like It Like That (1994)               -1.0\nTwo Deaths (1995)                        -1.0\nRoseanna's Grave (For Roseanna) (1997)   -1.0\nFrankie Starlight (1995)                 -1.0\nLength: 1410, dtype: float64"
     },
     "metadata": {},
     "output_type": "execute_result",
     "execution_count": 70
    }
   ],
   "source": [
    "similarMovies.sort_values(ascending=False)"
   ]
  },
  {
   "cell_type": "markdown",
   "metadata": {},
   "source": [
    "Our results are probably getting messed up by movies that have only been viewed by a handful of people who also happened to like Star Wars. So we need to get rid of movies that were only watched by a few people that are producing spurious results. Let's construct a new DataFrame that counts up how many ratings exist for each movie, and also the average rating while we're at it - that could also come in handy later."
   ]
  },
  {
   "cell_type": "code",
   "execution_count": 71,
   "metadata": {
    "pycharm": {
     "is_executing": false
    }
   },
   "outputs": [
    {
     "data": {
      "text/plain": "                          rating          \n                            size      mean\ntitle                                     \n'Til There Was You (1997)      9  2.333333\n1-900 (1994)                   5  2.600000\n101 Dalmatians (1996)        109  2.908257\n12 Angry Men (1957)          125  4.344000\n187 (1997)                    41  3.024390",
      "text/html": "<div>\n<style scoped>\n    .dataframe tbody tr th:only-of-type {\n        vertical-align: middle;\n    }\n\n    .dataframe tbody tr th {\n        vertical-align: top;\n    }\n\n    .dataframe thead tr th {\n        text-align: left;\n    }\n\n    .dataframe thead tr:last-of-type th {\n        text-align: right;\n    }\n</style>\n<table border=\"1\" class=\"dataframe\">\n  <thead>\n    <tr>\n      <th></th>\n      <th colspan=\"2\" halign=\"left\">rating</th>\n    </tr>\n    <tr>\n      <th></th>\n      <th>size</th>\n      <th>mean</th>\n    </tr>\n    <tr>\n      <th>title</th>\n      <th></th>\n      <th></th>\n    </tr>\n  </thead>\n  <tbody>\n    <tr>\n      <th>'Til There Was You (1997)</th>\n      <td>9</td>\n      <td>2.333333</td>\n    </tr>\n    <tr>\n      <th>1-900 (1994)</th>\n      <td>5</td>\n      <td>2.600000</td>\n    </tr>\n    <tr>\n      <th>101 Dalmatians (1996)</th>\n      <td>109</td>\n      <td>2.908257</td>\n    </tr>\n    <tr>\n      <th>12 Angry Men (1957)</th>\n      <td>125</td>\n      <td>4.344000</td>\n    </tr>\n    <tr>\n      <th>187 (1997)</th>\n      <td>41</td>\n      <td>3.024390</td>\n    </tr>\n  </tbody>\n</table>\n</div>"
     },
     "metadata": {},
     "output_type": "execute_result",
     "execution_count": 71
    }
   ],
   "source": [
    "import numpy as np\n",
    "movieStats = ratings.groupby('title').agg({'rating': [np.size, np.mean]})\n",
    "movieStats.head()"
   ]
  },
  {
   "cell_type": "markdown",
   "metadata": {},
   "source": [
    "Let's get rid of any movies rated by fewer than 90% of maximum people ratings, and check the top-rated ones that are left:"
   ]
  },
  {
   "cell_type": "code",
   "execution_count": 72,
   "metadata": {
    "pycharm": {
     "is_executing": false
    }
   },
   "outputs": [
    {
     "data": {
      "text/plain": "                                                   rating          \n                                                     size      mean\ntitle                                                              \nSchindler's List (1993)                               298  4.466443\nCasablanca (1942)                                     243  4.456790\nShawshank Redemption, The (1994)                      283  4.445230\nRear Window (1954)                                    209  4.387560\nUsual Suspects, The (1995)                            267  4.385768\nStar Wars (1977)                                      584  4.359589\nCitizen Kane (1941)                                   198  4.292929\nTo Kill a Mockingbird (1962)                          219  4.292237\nOne Flew Over the Cuckoo's Nest (1975)                264  4.291667\nSilence of the Lambs, The (1991)                      390  4.289744\nNorth by Northwest (1959)                             179  4.284916\nGodfather, The (1972)                                 413  4.283293\nGood Will Hunting (1997)                              198  4.262626\nDr. Strangelove or: How I Learned to Stop Worry...    194  4.252577\nRaiders of the Lost Ark (1981)                        420  4.252381",
      "text/html": "<div>\n<style scoped>\n    .dataframe tbody tr th:only-of-type {\n        vertical-align: middle;\n    }\n\n    .dataframe tbody tr th {\n        vertical-align: top;\n    }\n\n    .dataframe thead tr th {\n        text-align: left;\n    }\n\n    .dataframe thead tr:last-of-type th {\n        text-align: right;\n    }\n</style>\n<table border=\"1\" class=\"dataframe\">\n  <thead>\n    <tr>\n      <th></th>\n      <th colspan=\"2\" halign=\"left\">rating</th>\n    </tr>\n    <tr>\n      <th></th>\n      <th>size</th>\n      <th>mean</th>\n    </tr>\n    <tr>\n      <th>title</th>\n      <th></th>\n      <th></th>\n    </tr>\n  </thead>\n  <tbody>\n    <tr>\n      <th>Schindler's List (1993)</th>\n      <td>298</td>\n      <td>4.466443</td>\n    </tr>\n    <tr>\n      <th>Casablanca (1942)</th>\n      <td>243</td>\n      <td>4.456790</td>\n    </tr>\n    <tr>\n      <th>Shawshank Redemption, The (1994)</th>\n      <td>283</td>\n      <td>4.445230</td>\n    </tr>\n    <tr>\n      <th>Rear Window (1954)</th>\n      <td>209</td>\n      <td>4.387560</td>\n    </tr>\n    <tr>\n      <th>Usual Suspects, The (1995)</th>\n      <td>267</td>\n      <td>4.385768</td>\n    </tr>\n    <tr>\n      <th>Star Wars (1977)</th>\n      <td>584</td>\n      <td>4.359589</td>\n    </tr>\n    <tr>\n      <th>Citizen Kane (1941)</th>\n      <td>198</td>\n      <td>4.292929</td>\n    </tr>\n    <tr>\n      <th>To Kill a Mockingbird (1962)</th>\n      <td>219</td>\n      <td>4.292237</td>\n    </tr>\n    <tr>\n      <th>One Flew Over the Cuckoo's Nest (1975)</th>\n      <td>264</td>\n      <td>4.291667</td>\n    </tr>\n    <tr>\n      <th>Silence of the Lambs, The (1991)</th>\n      <td>390</td>\n      <td>4.289744</td>\n    </tr>\n    <tr>\n      <th>North by Northwest (1959)</th>\n      <td>179</td>\n      <td>4.284916</td>\n    </tr>\n    <tr>\n      <th>Godfather, The (1972)</th>\n      <td>413</td>\n      <td>4.283293</td>\n    </tr>\n    <tr>\n      <th>Good Will Hunting (1997)</th>\n      <td>198</td>\n      <td>4.262626</td>\n    </tr>\n    <tr>\n      <th>Dr. Strangelove or: How I Learned to Stop Worrying and Love the Bomb (1963)</th>\n      <td>194</td>\n      <td>4.252577</td>\n    </tr>\n    <tr>\n      <th>Raiders of the Lost Ark (1981)</th>\n      <td>420</td>\n      <td>4.252381</td>\n    </tr>\n  </tbody>\n</table>\n</div>"
     },
     "metadata": {},
     "output_type": "execute_result",
     "execution_count": 72
    }
   ],
   "source": [
    "popularMovies = movieStats['rating']['size'] >= movieStats['rating']['size'].quantile(q=0.9)\n",
    "movieStats[popularMovies].sort_values([('rating', 'mean')], ascending=False)[:15]"
   ]
  },
  {
   "cell_type": "markdown",
   "metadata": {},
   "source": [
    "100 might still be too low, but these results look pretty good as far as \"well rated movies that people have heard of.\" Let's join this data with our original set of similar movies to Star Wars:"
   ]
  },
  {
   "cell_type": "code",
   "execution_count": 73,
   "metadata": {
    "pycharm": {
     "is_executing": false
    }
   },
   "outputs": [
    {
     "name": "stderr",
     "text": [
      "C:\\MyPrograms\\miniconda3\\envs\\datascience\\lib\\site-packages\\pandas\\core\\reshape\\merge.py:618: UserWarning: merging between different levels can give an unintended result (2 levels on the left, 1 on the right)\n",
      "  warnings.warn(msg, UserWarning)\n"
     ],
     "output_type": "stream"
    }
   ],
   "source": [
    "df = movieStats[popularMovies].join(pd.DataFrame(similarMovies, columns=['similarity']))"
   ]
  },
  {
   "cell_type": "code",
   "execution_count": 74,
   "metadata": {
    "pycharm": {
     "is_executing": false
    }
   },
   "outputs": [
    {
     "data": {
      "text/plain": "                              (rating, size)  (rating, mean)  similarity\ntitle                                                                   \n2001: A Space Odyssey (1968)             259        3.969112    0.230884\nAir Force One (1997)                     431        3.631090    0.113164\nAladdin (1992)                           219        3.812785    0.191621\nAlien (1979)                             291        4.034364    0.248991\nAliens (1986)                            284        3.947183    0.254444",
      "text/html": "<div>\n<style scoped>\n    .dataframe tbody tr th:only-of-type {\n        vertical-align: middle;\n    }\n\n    .dataframe tbody tr th {\n        vertical-align: top;\n    }\n\n    .dataframe thead th {\n        text-align: right;\n    }\n</style>\n<table border=\"1\" class=\"dataframe\">\n  <thead>\n    <tr style=\"text-align: right;\">\n      <th></th>\n      <th>(rating, size)</th>\n      <th>(rating, mean)</th>\n      <th>similarity</th>\n    </tr>\n    <tr>\n      <th>title</th>\n      <th></th>\n      <th></th>\n      <th></th>\n    </tr>\n  </thead>\n  <tbody>\n    <tr>\n      <th>2001: A Space Odyssey (1968)</th>\n      <td>259</td>\n      <td>3.969112</td>\n      <td>0.230884</td>\n    </tr>\n    <tr>\n      <th>Air Force One (1997)</th>\n      <td>431</td>\n      <td>3.631090</td>\n      <td>0.113164</td>\n    </tr>\n    <tr>\n      <th>Aladdin (1992)</th>\n      <td>219</td>\n      <td>3.812785</td>\n      <td>0.191621</td>\n    </tr>\n    <tr>\n      <th>Alien (1979)</th>\n      <td>291</td>\n      <td>4.034364</td>\n      <td>0.248991</td>\n    </tr>\n    <tr>\n      <th>Aliens (1986)</th>\n      <td>284</td>\n      <td>3.947183</td>\n      <td>0.254444</td>\n    </tr>\n  </tbody>\n</table>\n</div>"
     },
     "metadata": {},
     "output_type": "execute_result",
     "execution_count": 74
    }
   ],
   "source": [
    "df.head()"
   ]
  },
  {
   "cell_type": "markdown",
   "metadata": {},
   "source": [
    "And, sort these new results by similarity score. That's more like it!"
   ]
  },
  {
   "cell_type": "code",
   "execution_count": 75,
   "metadata": {
    "pycharm": {
     "is_executing": false
    }
   },
   "outputs": [
    {
     "data": {
      "text/plain": "                                           (rating, size)  (rating, mean)  \\\ntitle                                                                       \nStar Wars (1977)                                      584        4.359589   \nEmpire Strikes Back, The (1980)                       368        4.206522   \nReturn of the Jedi (1983)                             507        4.007890   \nRaiders of the Lost Ark (1981)                        420        4.252381   \nSting, The (1973)                                     241        4.058091   \nIndiana Jones and the Last Crusade (1989)             331        3.930514   \nL.A. Confidential (1997)                              297        4.161616   \nE.T. the Extra-Terrestrial (1982)                     300        3.833333   \nBatman (1989)                                         201        3.427861   \nField of Dreams (1989)                                212        3.698113   \nStar Trek: The Wrath of Khan (1982)                   244        3.815574   \nBack to the Future (1985)                             350        3.834286   \nSnow White and the Seven Dwarfs (1937)                172        3.709302   \nWizard of Oz, The (1939)                              246        4.077236   \nJaws (1975)                                           280        3.775000   \n\n                                           similarity  \ntitle                                                  \nStar Wars (1977)                             1.000000  \nEmpire Strikes Back, The (1980)              0.748353  \nReturn of the Jedi (1983)                    0.672556  \nRaiders of the Lost Ark (1981)               0.536117  \nSting, The (1973)                            0.367538  \nIndiana Jones and the Last Crusade (1989)    0.350107  \nL.A. Confidential (1997)                     0.319065  \nE.T. the Extra-Terrestrial (1982)            0.303619  \nBatman (1989)                                0.289344  \nField of Dreams (1989)                       0.285286  \nStar Trek: The Wrath of Khan (1982)          0.282206  \nBack to the Future (1985)                    0.274839  \nSnow White and the Seven Dwarfs (1937)       0.270346  \nWizard of Oz, The (1939)                     0.266335  \nJaws (1975)                                  0.265459  ",
      "text/html": "<div>\n<style scoped>\n    .dataframe tbody tr th:only-of-type {\n        vertical-align: middle;\n    }\n\n    .dataframe tbody tr th {\n        vertical-align: top;\n    }\n\n    .dataframe thead th {\n        text-align: right;\n    }\n</style>\n<table border=\"1\" class=\"dataframe\">\n  <thead>\n    <tr style=\"text-align: right;\">\n      <th></th>\n      <th>(rating, size)</th>\n      <th>(rating, mean)</th>\n      <th>similarity</th>\n    </tr>\n    <tr>\n      <th>title</th>\n      <th></th>\n      <th></th>\n      <th></th>\n    </tr>\n  </thead>\n  <tbody>\n    <tr>\n      <th>Star Wars (1977)</th>\n      <td>584</td>\n      <td>4.359589</td>\n      <td>1.000000</td>\n    </tr>\n    <tr>\n      <th>Empire Strikes Back, The (1980)</th>\n      <td>368</td>\n      <td>4.206522</td>\n      <td>0.748353</td>\n    </tr>\n    <tr>\n      <th>Return of the Jedi (1983)</th>\n      <td>507</td>\n      <td>4.007890</td>\n      <td>0.672556</td>\n    </tr>\n    <tr>\n      <th>Raiders of the Lost Ark (1981)</th>\n      <td>420</td>\n      <td>4.252381</td>\n      <td>0.536117</td>\n    </tr>\n    <tr>\n      <th>Sting, The (1973)</th>\n      <td>241</td>\n      <td>4.058091</td>\n      <td>0.367538</td>\n    </tr>\n    <tr>\n      <th>Indiana Jones and the Last Crusade (1989)</th>\n      <td>331</td>\n      <td>3.930514</td>\n      <td>0.350107</td>\n    </tr>\n    <tr>\n      <th>L.A. Confidential (1997)</th>\n      <td>297</td>\n      <td>4.161616</td>\n      <td>0.319065</td>\n    </tr>\n    <tr>\n      <th>E.T. the Extra-Terrestrial (1982)</th>\n      <td>300</td>\n      <td>3.833333</td>\n      <td>0.303619</td>\n    </tr>\n    <tr>\n      <th>Batman (1989)</th>\n      <td>201</td>\n      <td>3.427861</td>\n      <td>0.289344</td>\n    </tr>\n    <tr>\n      <th>Field of Dreams (1989)</th>\n      <td>212</td>\n      <td>3.698113</td>\n      <td>0.285286</td>\n    </tr>\n    <tr>\n      <th>Star Trek: The Wrath of Khan (1982)</th>\n      <td>244</td>\n      <td>3.815574</td>\n      <td>0.282206</td>\n    </tr>\n    <tr>\n      <th>Back to the Future (1985)</th>\n      <td>350</td>\n      <td>3.834286</td>\n      <td>0.274839</td>\n    </tr>\n    <tr>\n      <th>Snow White and the Seven Dwarfs (1937)</th>\n      <td>172</td>\n      <td>3.709302</td>\n      <td>0.270346</td>\n    </tr>\n    <tr>\n      <th>Wizard of Oz, The (1939)</th>\n      <td>246</td>\n      <td>4.077236</td>\n      <td>0.266335</td>\n    </tr>\n    <tr>\n      <th>Jaws (1975)</th>\n      <td>280</td>\n      <td>3.775000</td>\n      <td>0.265459</td>\n    </tr>\n  </tbody>\n</table>\n</div>"
     },
     "metadata": {},
     "output_type": "execute_result",
     "execution_count": 75
    }
   ],
   "source": [
    "df.sort_values(['similarity'], ascending=False)[:15]"
   ]
  },
  {
   "cell_type": "markdown",
   "metadata": {},
   "source": [
    "Ideally we'd also filter out the movie we started from - of course Star Wars is 100% similar to itself. But otherwise these results aren't bad."
   ]
  },
  {
   "cell_type": "markdown",
   "metadata": {},
   "source": [
    "## Activity"
   ]
  },
  {
   "cell_type": "markdown",
   "metadata": {},
   "source": [
    "100 was an arbitrarily chosen cutoff. Try different values - what effect does it have on the end results?"
   ]
  },
  {
   "cell_type": "code",
   "execution_count": 75,
   "metadata": {
    "pycharm": {
     "is_executing": false
    }
   },
   "outputs": [],
   "source": []
  }
 ],
 "metadata": {
  "kernelspec": {
   "display_name": "Python 3",
   "language": "python",
   "name": "python3"
  },
  "language_info": {
   "codemirror_mode": {
    "name": "ipython",
    "version": 3
   },
   "file_extension": ".py",
   "mimetype": "text/x-python",
   "name": "python",
   "nbconvert_exporter": "python",
   "pygments_lexer": "ipython3",
   "version": "3.7.3"
  },
  "pycharm": {
   "stem_cell": {
    "cell_type": "raw",
    "source": [],
    "metadata": {
     "collapsed": false
    }
   }
  }
 },
 "nbformat": 4,
 "nbformat_minor": 1
}