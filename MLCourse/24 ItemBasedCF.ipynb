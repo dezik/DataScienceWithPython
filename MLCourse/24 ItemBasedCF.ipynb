{
 "cells": [
  {
   "cell_type": "markdown",
   "metadata": {},
   "source": [
    "# Item-Based Collaborative Filtering"
   ]
  },
  {
   "cell_type": "markdown",
   "metadata": {},
   "source": [
    "As before, we'll start by importing the MovieLens 100K data set into a pandas DataFrame:"
   ]
  },
  {
   "cell_type": "code",
   "execution_count": 37,
   "metadata": {
    "pycharm": {
     "is_executing": false
    }
   },
   "outputs": [
    {
     "data": {
      "text/plain": "   movie_id             title  user_id  rating\n0         1  Toy Story (1995)      308       4\n1         1  Toy Story (1995)      287       5\n2         1  Toy Story (1995)      148       4\n3         1  Toy Story (1995)      280       4\n4         1  Toy Story (1995)       66       3",
      "text/html": "<div>\n<style scoped>\n    .dataframe tbody tr th:only-of-type {\n        vertical-align: middle;\n    }\n\n    .dataframe tbody tr th {\n        vertical-align: top;\n    }\n\n    .dataframe thead th {\n        text-align: right;\n    }\n</style>\n<table border=\"1\" class=\"dataframe\">\n  <thead>\n    <tr style=\"text-align: right;\">\n      <th></th>\n      <th>movie_id</th>\n      <th>title</th>\n      <th>user_id</th>\n      <th>rating</th>\n    </tr>\n  </thead>\n  <tbody>\n    <tr>\n      <th>0</th>\n      <td>1</td>\n      <td>Toy Story (1995)</td>\n      <td>308</td>\n      <td>4</td>\n    </tr>\n    <tr>\n      <th>1</th>\n      <td>1</td>\n      <td>Toy Story (1995)</td>\n      <td>287</td>\n      <td>5</td>\n    </tr>\n    <tr>\n      <th>2</th>\n      <td>1</td>\n      <td>Toy Story (1995)</td>\n      <td>148</td>\n      <td>4</td>\n    </tr>\n    <tr>\n      <th>3</th>\n      <td>1</td>\n      <td>Toy Story (1995)</td>\n      <td>280</td>\n      <td>4</td>\n    </tr>\n    <tr>\n      <th>4</th>\n      <td>1</td>\n      <td>Toy Story (1995)</td>\n      <td>66</td>\n      <td>3</td>\n    </tr>\n  </tbody>\n</table>\n</div>"
     },
     "metadata": {},
     "output_type": "execute_result",
     "execution_count": 37
    }
   ],
   "source": [
    "import pandas as pd\n",
    "\n",
    "r_cols = ['user_id', 'movie_id', 'rating']\n",
    "ratings = pd.read_csv('ml-100k/u.data', sep='\\t', names=r_cols, usecols=range(3), encoding=\"ISO-8859-1\")\n",
    "\n",
    "m_cols = ['movie_id', 'title']\n",
    "movies = pd.read_csv('ml-100k/u.item', sep='|', names=m_cols, usecols=range(2), encoding=\"ISO-8859-1\")\n",
    "\n",
    "ratings = pd.merge(movies, ratings)\n",
    "\n",
    "ratings.head()"
   ]
  },
  {
   "cell_type": "markdown",
   "metadata": {},
   "source": [
    "Now we'll pivot this table to construct a nice matrix of users and the movies they rated. NaN indicates missing data, or movies that a given user did not watch:"
   ]
  },
  {
   "cell_type": "code",
   "execution_count": 38,
   "metadata": {
    "pycharm": {
     "is_executing": false
    }
   },
   "outputs": [
    {
     "data": {
      "text/plain": "title    'Til There Was You (1997)  1-900 (1994)  101 Dalmatians (1996)  \\\nuser_id                                                                   \n0                              NaN           NaN                    NaN   \n1                              NaN           NaN                    2.0   \n2                              NaN           NaN                    NaN   \n3                              NaN           NaN                    NaN   \n4                              NaN           NaN                    NaN   \n\ntitle    12 Angry Men (1957)  187 (1997)  2 Days in the Valley (1996)  \\\nuser_id                                                                 \n0                        NaN         NaN                          NaN   \n1                        5.0         NaN                          NaN   \n2                        NaN         NaN                          NaN   \n3                        NaN         2.0                          NaN   \n4                        NaN         NaN                          NaN   \n\ntitle    20,000 Leagues Under the Sea (1954)  2001: A Space Odyssey (1968)  \\\nuser_id                                                                      \n0                                        NaN                           NaN   \n1                                        3.0                           4.0   \n2                                        NaN                           NaN   \n3                                        NaN                           NaN   \n4                                        NaN                           NaN   \n\ntitle    3 Ninjas: High Noon At Mega Mountain (1998)  39 Steps, The (1935)  \\\nuser_id                                                                      \n0                                                NaN                   NaN   \n1                                                NaN                   NaN   \n2                                                1.0                   NaN   \n3                                                NaN                   NaN   \n4                                                NaN                   NaN   \n\ntitle    ...  Yankee Zulu (1994)  Year of the Horse (1997)  \\\nuser_id  ...                                                 \n0        ...                 NaN                       NaN   \n1        ...                 NaN                       NaN   \n2        ...                 NaN                       NaN   \n3        ...                 NaN                       NaN   \n4        ...                 NaN                       NaN   \n\ntitle    You So Crazy (1994)  Young Frankenstein (1974)  Young Guns (1988)  \\\nuser_id                                                                      \n0                        NaN                        NaN                NaN   \n1                        NaN                        5.0                3.0   \n2                        NaN                        NaN                NaN   \n3                        NaN                        NaN                NaN   \n4                        NaN                        NaN                NaN   \n\ntitle    Young Guns II (1990)  Young Poisoner's Handbook, The (1995)  \\\nuser_id                                                                \n0                         NaN                                    NaN   \n1                         NaN                                    NaN   \n2                         NaN                                    NaN   \n3                         NaN                                    NaN   \n4                         NaN                                    NaN   \n\ntitle    Zeus and Roxanne (1997)  unknown  Á köldum klaka (Cold Fever) (1994)  \nuser_id                                                                        \n0                            NaN      NaN                                 NaN  \n1                            NaN      4.0                                 NaN  \n2                            NaN      NaN                                 NaN  \n3                            NaN      NaN                                 NaN  \n4                            NaN      NaN                                 NaN  \n\n[5 rows x 1664 columns]",
      "text/html": "<div>\n<style scoped>\n    .dataframe tbody tr th:only-of-type {\n        vertical-align: middle;\n    }\n\n    .dataframe tbody tr th {\n        vertical-align: top;\n    }\n\n    .dataframe thead th {\n        text-align: right;\n    }\n</style>\n<table border=\"1\" class=\"dataframe\">\n  <thead>\n    <tr style=\"text-align: right;\">\n      <th>title</th>\n      <th>'Til There Was You (1997)</th>\n      <th>1-900 (1994)</th>\n      <th>101 Dalmatians (1996)</th>\n      <th>12 Angry Men (1957)</th>\n      <th>187 (1997)</th>\n      <th>2 Days in the Valley (1996)</th>\n      <th>20,000 Leagues Under the Sea (1954)</th>\n      <th>2001: A Space Odyssey (1968)</th>\n      <th>3 Ninjas: High Noon At Mega Mountain (1998)</th>\n      <th>39 Steps, The (1935)</th>\n      <th>...</th>\n      <th>Yankee Zulu (1994)</th>\n      <th>Year of the Horse (1997)</th>\n      <th>You So Crazy (1994)</th>\n      <th>Young Frankenstein (1974)</th>\n      <th>Young Guns (1988)</th>\n      <th>Young Guns II (1990)</th>\n      <th>Young Poisoner's Handbook, The (1995)</th>\n      <th>Zeus and Roxanne (1997)</th>\n      <th>unknown</th>\n      <th>Á köldum klaka (Cold Fever) (1994)</th>\n    </tr>\n    <tr>\n      <th>user_id</th>\n      <th></th>\n      <th></th>\n      <th></th>\n      <th></th>\n      <th></th>\n      <th></th>\n      <th></th>\n      <th></th>\n      <th></th>\n      <th></th>\n      <th></th>\n      <th></th>\n      <th></th>\n      <th></th>\n      <th></th>\n      <th></th>\n      <th></th>\n      <th></th>\n      <th></th>\n      <th></th>\n      <th></th>\n    </tr>\n  </thead>\n  <tbody>\n    <tr>\n      <th>0</th>\n      <td>NaN</td>\n      <td>NaN</td>\n      <td>NaN</td>\n      <td>NaN</td>\n      <td>NaN</td>\n      <td>NaN</td>\n      <td>NaN</td>\n      <td>NaN</td>\n      <td>NaN</td>\n      <td>NaN</td>\n      <td>...</td>\n      <td>NaN</td>\n      <td>NaN</td>\n      <td>NaN</td>\n      <td>NaN</td>\n      <td>NaN</td>\n      <td>NaN</td>\n      <td>NaN</td>\n      <td>NaN</td>\n      <td>NaN</td>\n      <td>NaN</td>\n    </tr>\n    <tr>\n      <th>1</th>\n      <td>NaN</td>\n      <td>NaN</td>\n      <td>2.0</td>\n      <td>5.0</td>\n      <td>NaN</td>\n      <td>NaN</td>\n      <td>3.0</td>\n      <td>4.0</td>\n      <td>NaN</td>\n      <td>NaN</td>\n      <td>...</td>\n      <td>NaN</td>\n      <td>NaN</td>\n      <td>NaN</td>\n      <td>5.0</td>\n      <td>3.0</td>\n      <td>NaN</td>\n      <td>NaN</td>\n      <td>NaN</td>\n      <td>4.0</td>\n      <td>NaN</td>\n    </tr>\n    <tr>\n      <th>2</th>\n      <td>NaN</td>\n      <td>NaN</td>\n      <td>NaN</td>\n      <td>NaN</td>\n      <td>NaN</td>\n      <td>NaN</td>\n      <td>NaN</td>\n      <td>NaN</td>\n      <td>1.0</td>\n      <td>NaN</td>\n      <td>...</td>\n      <td>NaN</td>\n      <td>NaN</td>\n      <td>NaN</td>\n      <td>NaN</td>\n      <td>NaN</td>\n      <td>NaN</td>\n      <td>NaN</td>\n      <td>NaN</td>\n      <td>NaN</td>\n      <td>NaN</td>\n    </tr>\n    <tr>\n      <th>3</th>\n      <td>NaN</td>\n      <td>NaN</td>\n      <td>NaN</td>\n      <td>NaN</td>\n      <td>2.0</td>\n      <td>NaN</td>\n      <td>NaN</td>\n      <td>NaN</td>\n      <td>NaN</td>\n      <td>NaN</td>\n      <td>...</td>\n      <td>NaN</td>\n      <td>NaN</td>\n      <td>NaN</td>\n      <td>NaN</td>\n      <td>NaN</td>\n      <td>NaN</td>\n      <td>NaN</td>\n      <td>NaN</td>\n      <td>NaN</td>\n      <td>NaN</td>\n    </tr>\n    <tr>\n      <th>4</th>\n      <td>NaN</td>\n      <td>NaN</td>\n      <td>NaN</td>\n      <td>NaN</td>\n      <td>NaN</td>\n      <td>NaN</td>\n      <td>NaN</td>\n      <td>NaN</td>\n      <td>NaN</td>\n      <td>NaN</td>\n      <td>...</td>\n      <td>NaN</td>\n      <td>NaN</td>\n      <td>NaN</td>\n      <td>NaN</td>\n      <td>NaN</td>\n      <td>NaN</td>\n      <td>NaN</td>\n      <td>NaN</td>\n      <td>NaN</td>\n      <td>NaN</td>\n    </tr>\n  </tbody>\n</table>\n<p>5 rows × 1664 columns</p>\n</div>"
     },
     "metadata": {},
     "output_type": "execute_result",
     "execution_count": 38
    }
   ],
   "source": [
    "userRatings = ratings.pivot_table(index=['user_id'],columns=['title'],values='rating')\n",
    "userRatings.head()"
   ]
  },
  {
   "cell_type": "markdown",
   "metadata": {},
   "source": [
    "Now the magic happens - pandas has a built-in corr() method that will compute a correlation score for every column pair in the matrix! This gives us a correlation score between every pair of movies (where at least one user rated both movies - otherwise NaN's will show up.) That's amazing!"
   ]
  },
  {
   "cell_type": "code",
   "execution_count": 39,
   "metadata": {
    "pycharm": {
     "is_executing": false
    }
   },
   "outputs": [
    {
     "data": {
      "text/plain": "title                      'Til There Was You (1997)  1-900 (1994)  \\\ntitle                                                                \n'Til There Was You (1997)                        1.0           NaN   \n1-900 (1994)                                     NaN           1.0   \n101 Dalmatians (1996)                           -1.0           NaN   \n12 Angry Men (1957)                             -0.5           NaN   \n187 (1997)                                      -0.5           NaN   \n\ntitle                      101 Dalmatians (1996)  12 Angry Men (1957)  \\\ntitle                                                                   \n'Til There Was You (1997)              -1.000000            -0.500000   \n1-900 (1994)                                 NaN                  NaN   \n101 Dalmatians (1996)                   1.000000            -0.049890   \n12 Angry Men (1957)                    -0.049890             1.000000   \n187 (1997)                              0.269191             0.666667   \n\ntitle                      187 (1997)  2 Days in the Valley (1996)  \\\ntitle                                                                \n'Til There Was You (1997)   -0.500000                     0.522233   \n1-900 (1994)                      NaN                          NaN   \n101 Dalmatians (1996)        0.269191                     0.048973   \n12 Angry Men (1957)          0.666667                     0.256625   \n187 (1997)                   1.000000                     0.596644   \n\ntitle                      20,000 Leagues Under the Sea (1954)  \\\ntitle                                                            \n'Til There Was You (1997)                                  NaN   \n1-900 (1994)                                               NaN   \n101 Dalmatians (1996)                                 0.266928   \n12 Angry Men (1957)                                   0.274772   \n187 (1997)                                                 NaN   \n\ntitle                      2001: A Space Odyssey (1968)  \\\ntitle                                                     \n'Til There Was You (1997)                     -0.426401   \n1-900 (1994)                                  -0.981981   \n101 Dalmatians (1996)                         -0.043407   \n12 Angry Men (1957)                            0.178848   \n187 (1997)                                    -0.554700   \n\ntitle                      3 Ninjas: High Noon At Mega Mountain (1998)  \\\ntitle                                                                    \n'Til There Was You (1997)                                          NaN   \n1-900 (1994)                                                       NaN   \n101 Dalmatians (1996)                                              NaN   \n12 Angry Men (1957)                                                NaN   \n187 (1997)                                                         NaN   \n\ntitle                      39 Steps, The (1935)  ...  Yankee Zulu (1994)  \\\ntitle                                            ...                       \n'Til There Was You (1997)                   NaN  ...                 NaN   \n1-900 (1994)                                NaN  ...                 NaN   \n101 Dalmatians (1996)                  0.111111  ...                 NaN   \n12 Angry Men (1957)                    0.457176  ...                 NaN   \n187 (1997)                             1.000000  ...                 NaN   \n\ntitle                      Year of the Horse (1997)  You So Crazy (1994)  \\\ntitle                                                                      \n'Til There Was You (1997)                       NaN                  NaN   \n1-900 (1994)                                    NaN                  NaN   \n101 Dalmatians (1996)                     -1.000000                  NaN   \n12 Angry Men (1957)                             NaN                  NaN   \n187 (1997)                                 0.866025                  NaN   \n\ntitle                      Young Frankenstein (1974)  Young Guns (1988)  \\\ntitle                                                                     \n'Til There Was You (1997)                        NaN                NaN   \n1-900 (1994)                               -0.944911                NaN   \n101 Dalmatians (1996)                       0.158840           0.119234   \n12 Angry Men (1957)                         0.096546           0.068944   \n187 (1997)                                  0.455233          -0.500000   \n\ntitle                      Young Guns II (1990)  \\\ntitle                                             \n'Til There Was You (1997)                   NaN   \n1-900 (1994)                                NaN   \n101 Dalmatians (1996)                  0.680414   \n12 Angry Men (1957)                   -0.361961   \n187 (1997)                             0.500000   \n\ntitle                      Young Poisoner's Handbook, The (1995)  \\\ntitle                                                              \n'Til There Was You (1997)                                    NaN   \n1-900 (1994)                                                 NaN   \n101 Dalmatians (1996)                                   0.000000   \n12 Angry Men (1957)                                     0.144338   \n187 (1997)                                              0.475327   \n\ntitle                      Zeus and Roxanne (1997)  unknown  \\\ntitle                                                         \n'Til There Was You (1997)                      NaN      NaN   \n1-900 (1994)                                   NaN      NaN   \n101 Dalmatians (1996)                     0.707107      NaN   \n12 Angry Men (1957)                       1.000000      1.0   \n187 (1997)                                     NaN      NaN   \n\ntitle                      Á köldum klaka (Cold Fever) (1994)  \ntitle                                                          \n'Til There Was You (1997)                                 NaN  \n1-900 (1994)                                              NaN  \n101 Dalmatians (1996)                                     NaN  \n12 Angry Men (1957)                                       NaN  \n187 (1997)                                                NaN  \n\n[5 rows x 1664 columns]",
      "text/html": "<div>\n<style scoped>\n    .dataframe tbody tr th:only-of-type {\n        vertical-align: middle;\n    }\n\n    .dataframe tbody tr th {\n        vertical-align: top;\n    }\n\n    .dataframe thead th {\n        text-align: right;\n    }\n</style>\n<table border=\"1\" class=\"dataframe\">\n  <thead>\n    <tr style=\"text-align: right;\">\n      <th>title</th>\n      <th>'Til There Was You (1997)</th>\n      <th>1-900 (1994)</th>\n      <th>101 Dalmatians (1996)</th>\n      <th>12 Angry Men (1957)</th>\n      <th>187 (1997)</th>\n      <th>2 Days in the Valley (1996)</th>\n      <th>20,000 Leagues Under the Sea (1954)</th>\n      <th>2001: A Space Odyssey (1968)</th>\n      <th>3 Ninjas: High Noon At Mega Mountain (1998)</th>\n      <th>39 Steps, The (1935)</th>\n      <th>...</th>\n      <th>Yankee Zulu (1994)</th>\n      <th>Year of the Horse (1997)</th>\n      <th>You So Crazy (1994)</th>\n      <th>Young Frankenstein (1974)</th>\n      <th>Young Guns (1988)</th>\n      <th>Young Guns II (1990)</th>\n      <th>Young Poisoner's Handbook, The (1995)</th>\n      <th>Zeus and Roxanne (1997)</th>\n      <th>unknown</th>\n      <th>Á köldum klaka (Cold Fever) (1994)</th>\n    </tr>\n    <tr>\n      <th>title</th>\n      <th></th>\n      <th></th>\n      <th></th>\n      <th></th>\n      <th></th>\n      <th></th>\n      <th></th>\n      <th></th>\n      <th></th>\n      <th></th>\n      <th></th>\n      <th></th>\n      <th></th>\n      <th></th>\n      <th></th>\n      <th></th>\n      <th></th>\n      <th></th>\n      <th></th>\n      <th></th>\n      <th></th>\n    </tr>\n  </thead>\n  <tbody>\n    <tr>\n      <th>'Til There Was You (1997)</th>\n      <td>1.0</td>\n      <td>NaN</td>\n      <td>-1.000000</td>\n      <td>-0.500000</td>\n      <td>-0.500000</td>\n      <td>0.522233</td>\n      <td>NaN</td>\n      <td>-0.426401</td>\n      <td>NaN</td>\n      <td>NaN</td>\n      <td>...</td>\n      <td>NaN</td>\n      <td>NaN</td>\n      <td>NaN</td>\n      <td>NaN</td>\n      <td>NaN</td>\n      <td>NaN</td>\n      <td>NaN</td>\n      <td>NaN</td>\n      <td>NaN</td>\n      <td>NaN</td>\n    </tr>\n    <tr>\n      <th>1-900 (1994)</th>\n      <td>NaN</td>\n      <td>1.0</td>\n      <td>NaN</td>\n      <td>NaN</td>\n      <td>NaN</td>\n      <td>NaN</td>\n      <td>NaN</td>\n      <td>-0.981981</td>\n      <td>NaN</td>\n      <td>NaN</td>\n      <td>...</td>\n      <td>NaN</td>\n      <td>NaN</td>\n      <td>NaN</td>\n      <td>-0.944911</td>\n      <td>NaN</td>\n      <td>NaN</td>\n      <td>NaN</td>\n      <td>NaN</td>\n      <td>NaN</td>\n      <td>NaN</td>\n    </tr>\n    <tr>\n      <th>101 Dalmatians (1996)</th>\n      <td>-1.0</td>\n      <td>NaN</td>\n      <td>1.000000</td>\n      <td>-0.049890</td>\n      <td>0.269191</td>\n      <td>0.048973</td>\n      <td>0.266928</td>\n      <td>-0.043407</td>\n      <td>NaN</td>\n      <td>0.111111</td>\n      <td>...</td>\n      <td>NaN</td>\n      <td>-1.000000</td>\n      <td>NaN</td>\n      <td>0.158840</td>\n      <td>0.119234</td>\n      <td>0.680414</td>\n      <td>0.000000</td>\n      <td>0.707107</td>\n      <td>NaN</td>\n      <td>NaN</td>\n    </tr>\n    <tr>\n      <th>12 Angry Men (1957)</th>\n      <td>-0.5</td>\n      <td>NaN</td>\n      <td>-0.049890</td>\n      <td>1.000000</td>\n      <td>0.666667</td>\n      <td>0.256625</td>\n      <td>0.274772</td>\n      <td>0.178848</td>\n      <td>NaN</td>\n      <td>0.457176</td>\n      <td>...</td>\n      <td>NaN</td>\n      <td>NaN</td>\n      <td>NaN</td>\n      <td>0.096546</td>\n      <td>0.068944</td>\n      <td>-0.361961</td>\n      <td>0.144338</td>\n      <td>1.000000</td>\n      <td>1.0</td>\n      <td>NaN</td>\n    </tr>\n    <tr>\n      <th>187 (1997)</th>\n      <td>-0.5</td>\n      <td>NaN</td>\n      <td>0.269191</td>\n      <td>0.666667</td>\n      <td>1.000000</td>\n      <td>0.596644</td>\n      <td>NaN</td>\n      <td>-0.554700</td>\n      <td>NaN</td>\n      <td>1.000000</td>\n      <td>...</td>\n      <td>NaN</td>\n      <td>0.866025</td>\n      <td>NaN</td>\n      <td>0.455233</td>\n      <td>-0.500000</td>\n      <td>0.500000</td>\n      <td>0.475327</td>\n      <td>NaN</td>\n      <td>NaN</td>\n      <td>NaN</td>\n    </tr>\n  </tbody>\n</table>\n<p>5 rows × 1664 columns</p>\n</div>"
     },
     "metadata": {},
     "output_type": "execute_result",
     "execution_count": 39
    }
   ],
   "source": [
    "corrMatrix = userRatings.corr()\n",
    "corrMatrix.head()"
   ]
  },
  {
   "cell_type": "markdown",
   "metadata": {},
   "source": [
    "However, we want to avoid spurious results that happened from just a handful of users that happened to rate the same pair of movies. In order to restrict our results to movies that lots of people rated together - and also give us more popular results that are more easily recongnizable - we'll use the min_periods argument to throw out results where fewer than 100 users rated a given movie pair:"
   ]
  },
  {
   "cell_type": "code",
   "execution_count": 40,
   "metadata": {
    "pycharm": {
     "is_executing": false
    }
   },
   "outputs": [
    {
     "data": {
      "text/plain": "title                      'Til There Was You (1997)  1-900 (1994)  \\\ntitle                                                                \n'Til There Was You (1997)                        NaN           NaN   \n1-900 (1994)                                     NaN           NaN   \n101 Dalmatians (1996)                            NaN           NaN   \n12 Angry Men (1957)                              NaN           NaN   \n187 (1997)                                       NaN           NaN   \n\ntitle                      101 Dalmatians (1996)  12 Angry Men (1957)  \\\ntitle                                                                   \n'Til There Was You (1997)                    NaN                  NaN   \n1-900 (1994)                                 NaN                  NaN   \n101 Dalmatians (1996)                        NaN                  NaN   \n12 Angry Men (1957)                          NaN                  NaN   \n187 (1997)                                   NaN                  NaN   \n\ntitle                      187 (1997)  2 Days in the Valley (1996)  \\\ntitle                                                                \n'Til There Was You (1997)         NaN                          NaN   \n1-900 (1994)                      NaN                          NaN   \n101 Dalmatians (1996)             NaN                          NaN   \n12 Angry Men (1957)               NaN                          NaN   \n187 (1997)                        NaN                          NaN   \n\ntitle                      20,000 Leagues Under the Sea (1954)  \\\ntitle                                                            \n'Til There Was You (1997)                                  NaN   \n1-900 (1994)                                               NaN   \n101 Dalmatians (1996)                                      NaN   \n12 Angry Men (1957)                                        NaN   \n187 (1997)                                                 NaN   \n\ntitle                      2001: A Space Odyssey (1968)  \\\ntitle                                                     \n'Til There Was You (1997)                           NaN   \n1-900 (1994)                                        NaN   \n101 Dalmatians (1996)                               NaN   \n12 Angry Men (1957)                                 NaN   \n187 (1997)                                          NaN   \n\ntitle                      3 Ninjas: High Noon At Mega Mountain (1998)  \\\ntitle                                                                    \n'Til There Was You (1997)                                          NaN   \n1-900 (1994)                                                       NaN   \n101 Dalmatians (1996)                                              NaN   \n12 Angry Men (1957)                                                NaN   \n187 (1997)                                                         NaN   \n\ntitle                      39 Steps, The (1935)  ...  Yankee Zulu (1994)  \\\ntitle                                            ...                       \n'Til There Was You (1997)                   NaN  ...                 NaN   \n1-900 (1994)                                NaN  ...                 NaN   \n101 Dalmatians (1996)                       NaN  ...                 NaN   \n12 Angry Men (1957)                         NaN  ...                 NaN   \n187 (1997)                                  NaN  ...                 NaN   \n\ntitle                      Year of the Horse (1997)  You So Crazy (1994)  \\\ntitle                                                                      \n'Til There Was You (1997)                       NaN                  NaN   \n1-900 (1994)                                    NaN                  NaN   \n101 Dalmatians (1996)                           NaN                  NaN   \n12 Angry Men (1957)                             NaN                  NaN   \n187 (1997)                                      NaN                  NaN   \n\ntitle                      Young Frankenstein (1974)  Young Guns (1988)  \\\ntitle                                                                     \n'Til There Was You (1997)                        NaN                NaN   \n1-900 (1994)                                     NaN                NaN   \n101 Dalmatians (1996)                            NaN                NaN   \n12 Angry Men (1957)                              NaN                NaN   \n187 (1997)                                       NaN                NaN   \n\ntitle                      Young Guns II (1990)  \\\ntitle                                             \n'Til There Was You (1997)                   NaN   \n1-900 (1994)                                NaN   \n101 Dalmatians (1996)                       NaN   \n12 Angry Men (1957)                         NaN   \n187 (1997)                                  NaN   \n\ntitle                      Young Poisoner's Handbook, The (1995)  \\\ntitle                                                              \n'Til There Was You (1997)                                    NaN   \n1-900 (1994)                                                 NaN   \n101 Dalmatians (1996)                                        NaN   \n12 Angry Men (1957)                                          NaN   \n187 (1997)                                                   NaN   \n\ntitle                      Zeus and Roxanne (1997)  unknown  \\\ntitle                                                         \n'Til There Was You (1997)                      NaN      NaN   \n1-900 (1994)                                   NaN      NaN   \n101 Dalmatians (1996)                          NaN      NaN   \n12 Angry Men (1957)                            NaN      NaN   \n187 (1997)                                     NaN      NaN   \n\ntitle                      Á köldum klaka (Cold Fever) (1994)  \ntitle                                                          \n'Til There Was You (1997)                                 NaN  \n1-900 (1994)                                              NaN  \n101 Dalmatians (1996)                                     NaN  \n12 Angry Men (1957)                                       NaN  \n187 (1997)                                                NaN  \n\n[5 rows x 1664 columns]",
      "text/html": "<div>\n<style scoped>\n    .dataframe tbody tr th:only-of-type {\n        vertical-align: middle;\n    }\n\n    .dataframe tbody tr th {\n        vertical-align: top;\n    }\n\n    .dataframe thead th {\n        text-align: right;\n    }\n</style>\n<table border=\"1\" class=\"dataframe\">\n  <thead>\n    <tr style=\"text-align: right;\">\n      <th>title</th>\n      <th>'Til There Was You (1997)</th>\n      <th>1-900 (1994)</th>\n      <th>101 Dalmatians (1996)</th>\n      <th>12 Angry Men (1957)</th>\n      <th>187 (1997)</th>\n      <th>2 Days in the Valley (1996)</th>\n      <th>20,000 Leagues Under the Sea (1954)</th>\n      <th>2001: A Space Odyssey (1968)</th>\n      <th>3 Ninjas: High Noon At Mega Mountain (1998)</th>\n      <th>39 Steps, The (1935)</th>\n      <th>...</th>\n      <th>Yankee Zulu (1994)</th>\n      <th>Year of the Horse (1997)</th>\n      <th>You So Crazy (1994)</th>\n      <th>Young Frankenstein (1974)</th>\n      <th>Young Guns (1988)</th>\n      <th>Young Guns II (1990)</th>\n      <th>Young Poisoner's Handbook, The (1995)</th>\n      <th>Zeus and Roxanne (1997)</th>\n      <th>unknown</th>\n      <th>Á köldum klaka (Cold Fever) (1994)</th>\n    </tr>\n    <tr>\n      <th>title</th>\n      <th></th>\n      <th></th>\n      <th></th>\n      <th></th>\n      <th></th>\n      <th></th>\n      <th></th>\n      <th></th>\n      <th></th>\n      <th></th>\n      <th></th>\n      <th></th>\n      <th></th>\n      <th></th>\n      <th></th>\n      <th></th>\n      <th></th>\n      <th></th>\n      <th></th>\n      <th></th>\n      <th></th>\n    </tr>\n  </thead>\n  <tbody>\n    <tr>\n      <th>'Til There Was You (1997)</th>\n      <td>NaN</td>\n      <td>NaN</td>\n      <td>NaN</td>\n      <td>NaN</td>\n      <td>NaN</td>\n      <td>NaN</td>\n      <td>NaN</td>\n      <td>NaN</td>\n      <td>NaN</td>\n      <td>NaN</td>\n      <td>...</td>\n      <td>NaN</td>\n      <td>NaN</td>\n      <td>NaN</td>\n      <td>NaN</td>\n      <td>NaN</td>\n      <td>NaN</td>\n      <td>NaN</td>\n      <td>NaN</td>\n      <td>NaN</td>\n      <td>NaN</td>\n    </tr>\n    <tr>\n      <th>1-900 (1994)</th>\n      <td>NaN</td>\n      <td>NaN</td>\n      <td>NaN</td>\n      <td>NaN</td>\n      <td>NaN</td>\n      <td>NaN</td>\n      <td>NaN</td>\n      <td>NaN</td>\n      <td>NaN</td>\n      <td>NaN</td>\n      <td>...</td>\n      <td>NaN</td>\n      <td>NaN</td>\n      <td>NaN</td>\n      <td>NaN</td>\n      <td>NaN</td>\n      <td>NaN</td>\n      <td>NaN</td>\n      <td>NaN</td>\n      <td>NaN</td>\n      <td>NaN</td>\n    </tr>\n    <tr>\n      <th>101 Dalmatians (1996)</th>\n      <td>NaN</td>\n      <td>NaN</td>\n      <td>NaN</td>\n      <td>NaN</td>\n      <td>NaN</td>\n      <td>NaN</td>\n      <td>NaN</td>\n      <td>NaN</td>\n      <td>NaN</td>\n      <td>NaN</td>\n      <td>...</td>\n      <td>NaN</td>\n      <td>NaN</td>\n      <td>NaN</td>\n      <td>NaN</td>\n      <td>NaN</td>\n      <td>NaN</td>\n      <td>NaN</td>\n      <td>NaN</td>\n      <td>NaN</td>\n      <td>NaN</td>\n    </tr>\n    <tr>\n      <th>12 Angry Men (1957)</th>\n      <td>NaN</td>\n      <td>NaN</td>\n      <td>NaN</td>\n      <td>NaN</td>\n      <td>NaN</td>\n      <td>NaN</td>\n      <td>NaN</td>\n      <td>NaN</td>\n      <td>NaN</td>\n      <td>NaN</td>\n      <td>...</td>\n      <td>NaN</td>\n      <td>NaN</td>\n      <td>NaN</td>\n      <td>NaN</td>\n      <td>NaN</td>\n      <td>NaN</td>\n      <td>NaN</td>\n      <td>NaN</td>\n      <td>NaN</td>\n      <td>NaN</td>\n    </tr>\n    <tr>\n      <th>187 (1997)</th>\n      <td>NaN</td>\n      <td>NaN</td>\n      <td>NaN</td>\n      <td>NaN</td>\n      <td>NaN</td>\n      <td>NaN</td>\n      <td>NaN</td>\n      <td>NaN</td>\n      <td>NaN</td>\n      <td>NaN</td>\n      <td>...</td>\n      <td>NaN</td>\n      <td>NaN</td>\n      <td>NaN</td>\n      <td>NaN</td>\n      <td>NaN</td>\n      <td>NaN</td>\n      <td>NaN</td>\n      <td>NaN</td>\n      <td>NaN</td>\n      <td>NaN</td>\n    </tr>\n  </tbody>\n</table>\n<p>5 rows × 1664 columns</p>\n</div>"
     },
     "metadata": {},
     "output_type": "execute_result",
     "execution_count": 40
    }
   ],
   "source": [
    "corrMatrix = userRatings.corr(method='pearson', min_periods=150)\n",
    "# corrMatrix = userRatings.corr(method='spearman', min_periods=150)\n",
    "# corrMatrix = userRatings.corr(method='kendall', min_periods=150)\n",
    "corrMatrix.head()"
   ]
  },
  {
   "cell_type": "markdown",
   "metadata": {},
   "source": [
    "Now let's produce some movie recommendations for user ID 0, who I manually added to the data set as a test case. This guy really likes Star Wars and The Empire Strikes Back, but hated Gone with the Wind. I'll extract his ratings from the userRatings DataFrame, and use dropna() to get rid of missing data (leaving me only with a Series of the movies I actually rated:)"
   ]
  },
  {
   "cell_type": "code",
   "execution_count": 41,
   "metadata": {
    "pycharm": {
     "is_executing": false
    }
   },
   "outputs": [
    {
     "data": {
      "text/plain": "title\nEmpire Strikes Back, The (1980)    5.0\nField of Dreams (1989)             1.0\nGone with the Wind (1939)          1.0\nStar Wars (1977)                   5.0\nName: 0, dtype: float64"
     },
     "metadata": {},
     "output_type": "execute_result",
     "execution_count": 41
    }
   ],
   "source": [
    "myRatings = userRatings.loc[0].dropna()\n",
    "myRatings"
   ]
  },
  {
   "cell_type": "markdown",
   "metadata": {},
   "source": [
    "Now, let's go through each movie I rated one at a time, and build up a list of possible recommendations based on the movies similar to the ones I rated.\n",
    "\n",
    "So for each movie I rated, I'll retrieve the list of similar movies from our correlation matrix. I'll then scale those correlation scores by how well I rated the movie they are similar to, so movies similar to ones I liked count more than movies similar to ones I hated:"
   ]
  },
  {
   "cell_type": "code",
   "execution_count": 42,
   "metadata": {
    "pycharm": {
     "is_executing": false
    }
   },
   "outputs": [
    {
     "name": "stdout",
     "text": [
      "Adding sims for Empire Strikes Back, The (1980)...\n",
      "Adding sims for Field of Dreams (1989)...\n",
      "Adding sims for Gone with the Wind (1939)...\n",
      "Adding sims for Star Wars (1977)...\n",
      "sorting...\n",
      "Star Wars (1977)                             5.000000\n",
      "Empire Strikes Back, The (1980)              5.000000\n",
      "Empire Strikes Back, The (1980)              3.741763\n",
      "Star Wars (1977)                             3.741763\n",
      "Return of the Jedi (1983)                    3.606146\n",
      "Return of the Jedi (1983)                    3.362779\n",
      "Raiders of the Lost Ark (1981)               2.693297\n",
      "Raiders of the Lost Ark (1981)               2.680586\n",
      "Sting, The (1973)                            1.837692\n",
      "Indiana Jones and the Last Crusade (1989)    1.750535\n",
      "dtype: float64\n"
     ],
     "output_type": "stream"
    },
    {
     "name": "stderr",
     "text": [
      "C:\\MyPrograms\\miniconda3\\envs\\datascience\\lib\\site-packages\\ipykernel_launcher.py:1: DeprecationWarning: The default dtype for empty Series will be 'object' instead of 'float64' in a future version. Specify a dtype explicitly to silence this warning.\n",
      "  \"\"\"Entry point for launching an IPython kernel.\n"
     ],
     "output_type": "stream"
    }
   ],
   "source": [
    "simCandidates = pd.Series()\n",
    "for i in range(0, len(myRatings.index)):\n",
    "    print (\"Adding sims for \" + myRatings.index[i] + \"...\")\n",
    "    # Retrieve similar movies to this one that I rated\n",
    "    sims = corrMatrix[myRatings.index[i]].dropna()\n",
    "    # Now scale its similarity by how well I rated this movie\n",
    "    sims = sims.map(lambda x: x * myRatings[i])\n",
    "    # Add the score to the list of similarity candidates\n",
    "    simCandidates = simCandidates.append(sims)\n",
    "    \n",
    "#Glance at our results so far:\n",
    "print (\"sorting...\")\n",
    "simCandidates.sort_values(inplace = True, ascending = False)\n",
    "print (simCandidates.head(10))"
   ]
  },
  {
   "cell_type": "markdown",
   "metadata": {},
   "source": [
    "This is starting to look like something useful! Note that some of the same movies came up more than once, because they were similar to more than one movie I rated. We'll use groupby() to add together the scores from movies that show up more than once, so they'll count more:"
   ]
  },
  {
   "cell_type": "code",
   "execution_count": 43,
   "metadata": {
    "pycharm": {
     "is_executing": false
    }
   },
   "outputs": [],
   "source": [
    "simCandidates = simCandidates.groupby(simCandidates.index).sum()"
   ]
  },
  {
   "cell_type": "code",
   "execution_count": 44,
   "metadata": {
    "pycharm": {
     "is_executing": false
    }
   },
   "outputs": [
    {
     "data": {
      "text/plain": "Star Wars (1977)                             9.140672\nEmpire Strikes Back, The (1980)              9.050318\nReturn of the Jedi (1983)                    7.269218\nRaiders of the Lost Ark (1981)               5.944639\nField of Dreams (1989)                       3.891283\nIndiana Jones and the Last Crusade (1989)    3.671214\nBack to the Future (1985)                    3.603329\nSting, The (1973)                            3.209627\nE.T. the Extra-Terrestrial (1982)            2.976423\nStar Trek: The Wrath of Khan (1982)          2.968080\ndtype: float64"
     },
     "metadata": {},
     "output_type": "execute_result",
     "execution_count": 44
    }
   ],
   "source": [
    "simCandidates.sort_values(inplace = True, ascending = False)\n",
    "simCandidates.head(10)"
   ]
  },
  {
   "cell_type": "markdown",
   "metadata": {},
   "source": [
    "The last thing we have to do is filter out movies I've already rated, as recommending a movie I've already watched isn't helpful:"
   ]
  },
  {
   "cell_type": "code",
   "execution_count": 45,
   "metadata": {
    "pycharm": {
     "is_executing": false
    }
   },
   "outputs": [
    {
     "data": {
      "text/plain": "Return of the Jedi (1983)                    7.269218\nRaiders of the Lost Ark (1981)               5.944639\nIndiana Jones and the Last Crusade (1989)    3.671214\nBack to the Future (1985)                    3.603329\nSting, The (1973)                            3.209627\nE.T. the Extra-Terrestrial (1982)            2.976423\nStar Trek: The Wrath of Khan (1982)          2.968080\nBatman (1989)                                2.947566\nPrincess Bride, The (1987)                   2.930710\nJaws (1975)                                  2.802935\ndtype: float64"
     },
     "metadata": {},
     "output_type": "execute_result",
     "execution_count": 45
    }
   ],
   "source": [
    "filteredSims = simCandidates.drop(myRatings.index)\n",
    "filteredSims.head(10)"
   ]
  },
  {
   "cell_type": "markdown",
   "metadata": {},
   "source": [
    "There we have it!"
   ]
  },
  {
   "cell_type": "markdown",
   "metadata": {},
   "source": [
    "## Exercise"
   ]
  },
  {
   "cell_type": "markdown",
   "metadata": {},
   "source": [
    "Can you improve on these results? Perhaps a different method or min_periods value on the correlation computation would produce more interesting results.\n",
    "\n",
    "Also, it looks like some movies similar to Gone with the Wind - which I hated - made it through to the final list of recommendations. Perhaps movies similar to ones the user rated poorly should actually be penalized, instead of just scaled down?\n",
    "\n",
    "There are also probably some outliers in the user rating data set - some users may have rated a huge amount of movies and have a disporportionate effect on the results. Go back to earlier lectures to learn how to identify these outliers, and see if removing them improves things.\n",
    "\n",
    "For an even bigger project: we're evaluating the result qualitatively here, but we could actually apply train/test and measure our ability to predict user ratings for movies they've already watched. Whether that's actually a measure of a \"good\" recommendation is debatable, though!"
   ]
  },
  {
   "cell_type": "code",
   "execution_count": 45,
   "metadata": {
    "pycharm": {
     "is_executing": false
    }
   },
   "outputs": [],
   "source": []
  }
 ],
 "metadata": {
  "kernelspec": {
   "display_name": "Python 3",
   "language": "python",
   "name": "python3"
  },
  "language_info": {
   "codemirror_mode": {
    "name": "ipython",
    "version": 3
   },
   "file_extension": ".py",
   "mimetype": "text/x-python",
   "name": "python",
   "nbconvert_exporter": "python",
   "pygments_lexer": "ipython3",
   "version": "3.7.6"
  },
  "pycharm": {
   "stem_cell": {
    "cell_type": "raw",
    "source": [],
    "metadata": {
     "collapsed": false
    }
   }
  }
 },
 "nbformat": 4,
 "nbformat_minor": 1
}