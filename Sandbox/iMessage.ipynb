{
 "nbformat": 4,
 "nbformat_minor": 2,
 "metadata": {
  "language_info": {
   "name": "python",
   "codemirror_mode": {
    "name": "ipython",
    "version": 3
   },
   "version": "3.7.6-final"
  },
  "orig_nbformat": 2,
  "file_extension": ".py",
  "mimetype": "text/x-python",
  "name": "python",
  "npconvert_exporter": "python",
  "pygments_lexer": "ipython3",
  "version": 3,
  "kernelspec": {
   "name": "python37664bitdatasciencecondae8f42ab0efea4f998c891fa6287f9d0d",
   "display_name": "Python 3.7.6 64-bit ('datascience': conda)"
  }
 },
 "cells": [
  {
   "cell_type": "markdown",
   "execution_count": null,
   "metadata": {},
   "outputs": [],
   "source": [
    "# iMessage data preparation"
   ]
  },
  {
   "cell_type": "code",
   "execution_count": null,
   "metadata": {},
   "outputs": [],
   "source": [
    "import sqlite3\n",
    "import pandas as pd\n",
    "from datetime import datetime\n",
    "import matplotlib.pyplot as plt\n",
    "plt.style.use('fivethirtyeight')\n",
    "%matplotlib inline\n"
   ]
  },
  {
   "cell_type": "markdown",
   "execution_count": null,
   "metadata": {},
   "outputs": [],
   "source": [
    "Set constants"
   ]
  },
  {
   "cell_type": "code",
   "execution_count": null,
   "metadata": {},
   "outputs": [],
   "source": [
    "IMESSAGE_DB = '/Users/home/Library/Messages/chat.db'\n",
    "CONTACTS = {\n",
    "    'juliadolzhikova@gmail.com':'Julia',\n",
    "    '+420739844387':'Julia',\n",
    "    '+48577345096':'Julia',\n",
    "    'julia.shablya@icloud.com':'Julia',\n",
    "\n",
    "    'shablyairyna@gmail.com':'Mama',\n",
    "\n",
    "    '+393402103517':'Alia',\n",
    "\n",
    "    'v.stebaeva@icloud.com':'Babulia',\n",
    "    'v.stebaeva@gmail.com':'Babulia'\n",
    "}"
   ]
  },
  {
   "cell_type": "markdown",
   "execution_count": null,
   "metadata": {},
   "outputs": [],
   "source": [
    "Create connection to iMessage DB"
   ]
  },
  {
   "cell_type": "code",
   "execution_count": null,
   "metadata": {},
   "outputs": [],
   "source": [
    "conn = sqlite3.connect(IMESSAGE_DB)"
   ]
  },
  {
   "cell_type": "code",
   "execution_count": 177,
   "metadata": {},
   "outputs": [
    {
     "data": {
      "text/plain": "'Babulia'"
     },
     "execution_count": 177,
     "metadata": {},
     "output_type": "execute_result"
    }
   ],
   "source": [
    "contacts = pd.DataFrame([['juliadolzhikova@gmail.com', 'shablyairyna@gmail.com', '+393402103517', 'v.stebaeva@icloud.com'],\n",
    "    ['+420739844387', '', '', 'v.stebaeva@gmail.com'],\n",
    "    ['+48577345096', '', '', ''],\n",
    "    ['julia.shablya@icloud.com', '', '', '']],\n",
    " columns=[\"Julia\", \"Mama\", \"Alia\", \"Babulia\"])\n",
    "# contacts.to_csv('../Data/contacts.csv')\n",
    "n = contacts.columns[contacts.eq('v.stebaeva@gmail.com').any()][0]\n",
    "n"
   ]
  },
  {
   "cell_type": "markdown",
   "metadata": {},
   "source": [
    "Read contacts and define function for getting contact name by number"
   ]
  },
  {
   "cell_type": "code",
   "execution_count": 182,
   "metadata": {},
   "outputs": [],
   "source": [
    "contacts = pd.read_csv('../Data/contacts.csv')\n",
    "\n",
    "def getContact(account:str):\n",
    "    name = contacts.columns[contacts.eq(account).any()]\n",
    "    if len(name) == 0:\n",
    "        return \"Other\"\n",
    "    else:\n",
    "        return name[0]"
   ]
  },
  {
   "cell_type": "markdown",
   "execution_count": null,
   "metadata": {},
   "outputs": [],
   "source": [
    "Get messages table and convert date to human readable format"
   ]
  },
  {
   "cell_type": "code",
   "execution_count": null,
   "metadata": {},
   "outputs": [],
   "source": [
    "messages = pd.read_sql_query('''select *, datetime(date/1000000000 + strftime(\"%s\", \"2001-01-01\") ,\"unixepoch\",\"localtime\")  as timestamp from message''', conn) \n",
    "messages.rename(columns={'ROWID' : 'message_id'}, inplace = True)\n",
    "messages['timestamp'] = messages['timestamp'].apply(lambda x: pd.Timestamp(x))\n",
    "messages['date'] = messages['timestamp'].apply(lambda x: x.date())\n",
    "messages = messages[['message_id', 'handle_id', 'text', 'is_sent', 'timestamp', 'date']]\n",
    "messages.head()"
   ]
  },
  {
   "cell_type": "markdown",
   "execution_count": null,
   "metadata": {},
   "outputs": [],
   "source": [
    "get the handles to apple-id mapping table"
   ]
  },
  {
   "cell_type": "code",
   "execution_count": null,
   "metadata": {},
   "outputs": [],
   "source": [
    "handles = pd.read_sql_query(\"select ROWID as handle_id, id as account, service  from handle\", conn)\n",
    "handles.head()"
   ]
  },
  {
   "cell_type": "markdown",
   "execution_count": null,
   "metadata": {},
   "outputs": [],
   "source": [
    "Merge messages with handles"
   ]
  },
  {
   "cell_type": "code",
   "execution_count": null,
   "metadata": {},
   "outputs": [],
   "source": [
    "message_to_handle = pd.merge(messages[['message_id', 'handle_id', 'text', 'is_sent', 'timestamp', 'date']],  handles[['handle_id', 'account', 'service']], on ='handle_id', how='left')\n",
    "message_to_handle.head(10)"
   ]
  },
  {
   "cell_type": "markdown",
   "execution_count": null,
   "metadata": {},
   "outputs": [],
   "source": [
    "Get the chat to message mapping and join together with message_to_handle"
   ]
  },
  {
   "cell_type": "code",
   "execution_count": null,
   "metadata": {},
   "outputs": [],
   "source": [
    "chat_message_joins = pd.read_sql_query(\"select * from chat_message_join\", conn)\n",
    "\n",
    "data = pd.merge(message_to_handle, chat_message_joins[['chat_id', 'message_id']], on = 'message_id', how='left')\n",
    "data.head(10)"
   ]
  },
  {
   "cell_type": "markdown",
   "execution_count": null,
   "metadata": {},
   "outputs": [],
   "source": [
    "Map each handle to particular sender"
   ]
  },
  {
   "cell_type": "code",
   "execution_count": null,
   "metadata": {},
   "outputs": [],
   "source": [
    "data.handle_id = data.account.map(lambda x: CONTACTS.get(x, 'Other'))\n",
    "data.rename(columns={'handle_id' : 'sender'}, inplace = True)\n",
    "data.head()"
   ]
  },
  {
   "cell_type": "markdown",
   "execution_count": null,
   "metadata": {},
   "outputs": [],
   "source": [
    "Extract information about attachments"
   ]
  },
  {
   "cell_type": "code",
   "execution_count": null,
   "metadata": {},
   "outputs": [],
   "source": [
    "message_attachment_joins = pd.read_sql_query(\"select * from message_attachment_join\", conn)\n",
    "attachments = pd.read_sql_query(\"select ROWID as attachment_id, filename from attachment\", conn)\n",
    "attachment_per_message = pd.merge(message_attachment_joins,  attachments, on ='attachment_id', how='left')\n",
    "attachment_per_message"
   ]
  },
  {
   "cell_type": "markdown",
   "execution_count": null,
   "metadata": {},
   "outputs": [],
   "source": [
    "Add attachment path to data df"
   ]
  },
  {
   "cell_type": "code",
   "execution_count": null,
   "metadata": {},
   "outputs": [],
   "source": [
    "data = pd.merge(data, attachment_per_message[['message_id', 'filename']], how='left', on='message_id')\n",
    "data.head()"
   ]
  },
  {
   "cell_type": "markdown",
   "execution_count": null,
   "metadata": {},
   "outputs": [],
   "source": [
    "Rearange df columns"
   ]
  },
  {
   "cell_type": "code",
   "execution_count": null,
   "metadata": {},
   "outputs": [],
   "source": [
    "data = data[['message_id', 'chat_id', 'sender', 'account', 'service', 'is_sent', 'text', 'timestamp', 'date', 'filename']]\n",
    "data.head()"
   ]
  },
  {
   "cell_type": "markdown",
   "execution_count": null,
   "metadata": {},
   "outputs": [],
   "source": [
    "Visualize information"
   ]
  },
  {
   "cell_type": "code",
   "execution_count": null,
   "metadata": {},
   "outputs": [],
   "source": [
    "import seaborn as sns\n",
    "sns.set()"
   ]
  },
  {
   "cell_type": "code",
   "execution_count": null,
   "metadata": {},
   "outputs": [],
   "source": [
    "data['sender'].value_counts().plot(kind='pie')"
   ]
  },
  {
   "cell_type": "code",
   "execution_count": null,
   "metadata": {},
   "outputs": [],
   "source": [
    "data['service'].value_counts().plot(kind='pie')"
   ]
  },
  {
   "cell_type": "code",
   "execution_count": null,
   "metadata": {},
   "outputs": [],
   "source": [
    "data['is_sent'].value_counts().plot(kind='pie')"
   ]
  },
  {
   "cell_type": "code",
   "execution_count": null,
   "metadata": {},
   "outputs": [],
   "source": [
    "data['date'].value_counts().plot(kind='line')"
   ]
  },
  {
   "cell_type": "markdown",
   "execution_count": null,
   "metadata": {},
   "outputs": [],
   "source": [
    "Save results to CSV file"
   ]
  },
  {
   "cell_type": "code",
   "execution_count": null,
   "metadata": {},
   "outputs": [],
   "source": [
    "data.to_csv('~/Downloads/iMessage.csv', index = False, encoding='utf-16')"
   ]
  },
  {
   "cell_type": "markdown",
   "execution_count": null,
   "metadata": {},
   "outputs": [],
   "source": [
    "# Display information in chat-style format"
   ]
  },
  {
   "cell_type": "code",
   "execution_count": null,
   "metadata": {},
   "outputs": [],
   "source": [
    "import pandas as pd\n",
    "import numpy as np\n",
    "import matplotlib.pyplot as plt\n",
    "import seaborn as sns\n",
    "sns.set()\n",
    "%matplotlib inline"
   ]
  },
  {
   "cell_type": "markdown",
   "execution_count": null,
   "metadata": {},
   "outputs": [],
   "source": [
    "Read data from CSV"
   ]
  },
  {
   "cell_type": "code",
   "execution_count": null,
   "metadata": {},
   "outputs": [],
   "source": [
    "imessage = pd.read_csv('~/Downloads/iMessage.csv', encoding='utf-16', na_values=['', ' ', '\\n', '\\t', '\\r\\n', '\\r', '￼'])\n",
    "imessage['timestamp'] = imessage['timestamp'].apply(lambda x: pd.Timestamp(x))\n",
    "imessage['text'] = imessage['text'].apply(lambda x: str(x))\n",
    "imessage.info()"
   ]
  },
  {
   "cell_type": "markdown",
   "execution_count": null,
   "metadata": {},
   "outputs": [],
   "source": [
    "Cleanup"
   ]
  },
  {
   "cell_type": "code",
   "execution_count": null,
   "metadata": {},
   "outputs": [],
   "source": [
    "imessage.drop(imessage[imessage.text.eq('nan')].index, axis=0, inplace=True)\n",
    "imessage.drop(imessage[imessage.text.str.startswith('http')].index, axis=0, inplace=True)\n",
    "imessage.drop(imessage[imessage.text.str.startswith('Понравилось «')].index, axis=0, inplace=True)\n",
    "imessage.drop(imessage[imessage.text.str.isspace()].index, axis=0, inplace=True)\n",
    "imessage.head(20)"
   ]
  },
  {
   "cell_type": "markdown",
   "execution_count": null,
   "metadata": {},
   "outputs": [],
   "source": [
    "Difine function for getting sender specific vocabulary"
   ]
  },
  {
   "cell_type": "code",
   "execution_count": null,
   "metadata": {},
   "outputs": [],
   "source": [
    "import re\n",
    "from collections import Counter\n",
    "\n",
    "def getVocabulary(sender: str = 'Me', isSent=0):\n",
    "    if sender == 'Me':\n",
    "        senderMessages = imessage[imessage['is_sent'] == 1].text.values\n",
    "    else:\n",
    "        senderMessages = imessage[imessage.sender.eq(sender) & imessage.is_sent.eq(isSent)].text.values\n",
    "\n",
    "    vocabulary = []\n",
    "    pattern = re.compile(f'[А-Яа-я]+')\n",
    "    for s in senderMessages:\n",
    "        for word in s.split():\n",
    "            word = word.lower().replace('.','').replace(',','').replace('!','').replace('?','').strip()\n",
    "            if pattern.match(word) and len(word)>1:\n",
    "                vocabulary.append(word)\n",
    "    return Counter(vocabulary)"
   ]
  },
  {
   "cell_type": "markdown",
   "execution_count": null,
   "metadata": {},
   "outputs": [],
   "source": [
    "Vocabulary visualization"
   ]
  },
  {
   "cell_type": "code",
   "execution_count": null,
   "metadata": {},
   "outputs": [],
   "source": [
    "myVocabulary = v = getVocabulary()\n",
    "words, counts = zip(*myVocabulary.most_common(20))\n",
    "plt.barh(words, counts)"
   ]
  },
  {
   "cell_type": "code",
   "execution_count": null,
   "metadata": {},
   "outputs": [],
   "source": [
    "juliaVocabulary = v = getVocabulary('Julia')\n",
    "words, counts = zip(*juliaVocabulary.most_common(20))\n",
    "plt.barh(words, counts)"
   ]
  },
  {
   "cell_type": "code",
   "execution_count": null,
   "metadata": {},
   "outputs": [],
   "source": [
    "mamaVocabulary = v = getVocabulary('Mama')\n",
    "words, counts = zip(*mamaVocabulary.most_common(20))\n",
    "plt.barh(words, counts)"
   ]
  },
  {
   "cell_type": "markdown",
   "execution_count": null,
   "metadata": {},
   "outputs": [],
   "source": [
    "Extract chat with Julia"
   ]
  },
  {
   "cell_type": "code",
   "execution_count": null,
   "metadata": {},
   "outputs": [],
   "source": [
    "julia = imessage[imessage['sender'] == 'Julia'][['text', 'is_sent', 'timestamp']]\n",
    "julia.dropna(inplace=True)\n",
    "julia = julia[:200]\n",
    "julia.head()"
   ]
  },
  {
   "cell_type": "code",
   "execution_count": null,
   "metadata": {},
   "outputs": [],
   "source": [
    "juliaMessages = julia[julia.is_sent == 0][['text', 'timestamp']]\n",
    "juliaMessages.sort_values(by='timestamp', inplace=True)\n",
    "\n",
    "myMessages = julia[julia.is_sent == 1][['text', 'timestamp']]\n",
    "myMessages.sort_values(by='timestamp', inplace=True)"
   ]
  },
  {
   "cell_type": "code",
   "execution_count": null,
   "metadata": {},
   "outputs": [],
   "source": [
    "from pandas import DataFrame\n",
    "from collections import deque\n",
    "\n",
    "def displayChat(firstName:str, first:DataFrame, secondName:str, second:DataFrame):\n",
    "    firstIter = first.iterrows()\n",
    "    secondIter = second.iterrows()\n",
    "\n",
    "    done = object()\n",
    "    firstNext = next(firstIter, done)\n",
    "    secondNext = next(secondIter, done)\n",
    "\n",
    "    chat = deque()\n",
    "    currentChater = firstName\n",
    "\n",
    "    while firstNext is not done and secondNext is not done:\n",
    "        firstTimestamp = firstNext[1].timestamp \n",
    "        secondTimestamp = secondNext[1].timestamp\n",
    "\n",
    "        if firstTimestamp < secondTimestamp:\n",
    "            if currentChater != firstName:\n",
    "                chat.append(\"\\n\" + firstName + \":\")\n",
    "                currentChater = firstName\n",
    "            chat.append(firstNext[1].text)\n",
    "            firstNext = next(firstIter, done)\n",
    "        else:\n",
    "            if currentChater != secondName:\n",
    "                chat.append(\"\\n\")\n",
    "                chat.append((secondName + \":\").rjust(75))\n",
    "                currentChater = secondName\n",
    "            chat.append(secondNext[1].text.rjust(75))\n",
    "            secondNext = next(secondIter, done)\n",
    "\n",
    "    for s in chat:\n",
    "        print(s)\n",
    "    \n",
    "\n",
    "displayChat(\"Dima\", myMessages, \"Julia\", juliaMessages)"
   ]
  },
  {
   "cell_type": "code",
   "execution_count": null,
   "metadata": {},
   "outputs": [],
   "source": []
  }
 ]
}